{
  "cells": [
    {
      "cell_type": "markdown",
      "metadata": {
        "id": "view-in-github",
        "colab_type": "text"
      },
      "source": [
        "<a href=\"https://colab.research.google.com/github/evanthacker/MIT-Great-Learning-Network-Stock-Portfolio-Optimization-Practice-Project/blob/main/MIT_Great_Learning_Network_Stock_Portfolio_Optimization_Practice_Project.ipynb\" target=\"_parent\"><img src=\"https://colab.research.google.com/assets/colab-badge.svg\" alt=\"Open In Colab\"/></a>"
      ]
    },
    {
      "cell_type": "markdown",
      "id": "40ed353e",
      "metadata": {
        "id": "40ed353e"
      },
      "source": [
        "## Loading the Libraries"
      ]
    },
    {
      "cell_type": "markdown",
      "id": "ddc8565f",
      "metadata": {
        "id": "ddc8565f"
      },
      "source": [
        "We will need to first install the library - pandas_datareader using !pip install pandas_datareader"
      ]
    },
    {
      "cell_type": "code",
      "execution_count": null,
      "id": "3ec8e879",
      "metadata": {
        "id": "3ec8e879"
      },
      "outputs": [],
      "source": [
        "import tqdm\n",
        "import requests\n",
        "import numpy as np\n",
        "import pandas as pd\n",
        "import seaborn as sns\n",
        "import networkx as nx\n",
        "import plotly.express as px\n",
        "from bs4 import BeautifulSoup\n",
        "import matplotlib.pyplot as plt\n",
        "\n",
        "import warnings\n",
        "warnings.filterwarnings('ignore')"
      ]
    },
    {
      "cell_type": "code",
      "execution_count": null,
      "id": "663e0736",
      "metadata": {
        "id": "663e0736"
      },
      "outputs": [],
      "source": [
        "import pandas_datareader.data as web\n"
      ]
    },
    {
      "cell_type": "markdown",
      "id": "48bc0ba2",
      "metadata": {
        "id": "48bc0ba2"
      },
      "source": [
        "## Getting the S&P 500 Components"
      ]
    },
    {
      "cell_type": "markdown",
      "id": "d7d6fc35",
      "metadata": {
        "id": "d7d6fc35"
      },
      "source": [
        "Beautiful Soup is a library that makes it easy to scrape information from web pages."
      ]
    },
    {
      "cell_type": "code",
      "execution_count": null,
      "id": "e2843545",
      "metadata": {
        "id": "e2843545"
      },
      "outputs": [],
      "source": [
        "# Extracting list of S&P 500 companies using BeautifulSoup.\n",
        "resp = requests.get('http://en.wikipedia.org/wiki/List_of_S%26P_500_companies')\n",
        "soup = BeautifulSoup(resp.text, 'lxml')\n",
        "table = soup.find('table', {'class': 'wikitable sortable'})\n",
        "tickers = []\n",
        "for row in table.findAll('tr')[1:]:\n",
        "    ticker = row.findAll('td')[0].text.strip('\\n')\n",
        "    tickers.append(ticker)\n",
        "    \n",
        "tickers = [ticker.replace('.', '-') for ticker in tickers] # list of S&P 500 stocks"
      ]
    },
    {
      "cell_type": "markdown",
      "id": "6ba447c9",
      "metadata": {
        "id": "6ba447c9"
      },
      "source": [
        "## Getting the Price Data for all the S&P 500 components in the last 10 years"
      ]
    },
    {
      "cell_type": "code",
      "execution_count": null,
      "id": "4f6abe2b",
      "metadata": {
        "id": "4f6abe2b"
      },
      "outputs": [],
      "source": [
        "# price_data = web.DataReader(tickers, 'yahoo', start='2011-01-01', end='2020-12-31') #We will get the dataset for yahoo\n",
        "# price_data = price_data['Adj Close'] # we will get all data points and we also get the volume not only the close price, open price.\n",
        "# price_data.to_csv('snp500_price_data_2011_to_2020.csv')"
      ]
    },
    {
      "cell_type": "code",
      "execution_count": null,
      "id": "41bb6aae",
      "metadata": {
        "colab": {
          "base_uri": "https://localhost:8080/",
          "height": 311
        },
        "id": "41bb6aae",
        "outputId": "db739e8d-95f9-4507-aa7d-33e7dd3851eb"
      },
      "outputs": [
        {
          "output_type": "error",
          "ename": "FileNotFoundError",
          "evalue": "ignored",
          "traceback": [
            "\u001b[0;31m---------------------------------------------------------------------------\u001b[0m",
            "\u001b[0;31mFileNotFoundError\u001b[0m                         Traceback (most recent call last)",
            "\u001b[0;32m<ipython-input-26-4c3af7cc7e12>\u001b[0m in \u001b[0;36m<cell line: 1>\u001b[0;34m()\u001b[0m\n\u001b[0;32m----> 1\u001b[0;31m \u001b[0mprice_data\u001b[0m \u001b[0;34m=\u001b[0m \u001b[0mpd\u001b[0m\u001b[0;34m.\u001b[0m\u001b[0mread_csv\u001b[0m\u001b[0;34m(\u001b[0m\u001b[0;34m'snp500_price_data_2011_to_2020.csv'\u001b[0m\u001b[0;34m,\u001b[0m \u001b[0mindex_col\u001b[0m\u001b[0;34m=\u001b[0m\u001b[0;34m[\u001b[0m\u001b[0;36m0\u001b[0m\u001b[0;34m]\u001b[0m\u001b[0;34m)\u001b[0m\u001b[0;34m\u001b[0m\u001b[0;34m\u001b[0m\u001b[0m\n\u001b[0m",
            "\u001b[0;32m/usr/local/lib/python3.9/dist-packages/pandas/util/_decorators.py\u001b[0m in \u001b[0;36mwrapper\u001b[0;34m(*args, **kwargs)\u001b[0m\n\u001b[1;32m    209\u001b[0m                 \u001b[0;32melse\u001b[0m\u001b[0;34m:\u001b[0m\u001b[0;34m\u001b[0m\u001b[0;34m\u001b[0m\u001b[0m\n\u001b[1;32m    210\u001b[0m                     \u001b[0mkwargs\u001b[0m\u001b[0;34m[\u001b[0m\u001b[0mnew_arg_name\u001b[0m\u001b[0;34m]\u001b[0m \u001b[0;34m=\u001b[0m \u001b[0mnew_arg_value\u001b[0m\u001b[0;34m\u001b[0m\u001b[0;34m\u001b[0m\u001b[0m\n\u001b[0;32m--> 211\u001b[0;31m             \u001b[0;32mreturn\u001b[0m \u001b[0mfunc\u001b[0m\u001b[0;34m(\u001b[0m\u001b[0;34m*\u001b[0m\u001b[0margs\u001b[0m\u001b[0;34m,\u001b[0m \u001b[0;34m**\u001b[0m\u001b[0mkwargs\u001b[0m\u001b[0;34m)\u001b[0m\u001b[0;34m\u001b[0m\u001b[0;34m\u001b[0m\u001b[0m\n\u001b[0m\u001b[1;32m    212\u001b[0m \u001b[0;34m\u001b[0m\u001b[0m\n\u001b[1;32m    213\u001b[0m         \u001b[0;32mreturn\u001b[0m \u001b[0mcast\u001b[0m\u001b[0;34m(\u001b[0m\u001b[0mF\u001b[0m\u001b[0;34m,\u001b[0m \u001b[0mwrapper\u001b[0m\u001b[0;34m)\u001b[0m\u001b[0;34m\u001b[0m\u001b[0;34m\u001b[0m\u001b[0m\n",
            "\u001b[0;32m/usr/local/lib/python3.9/dist-packages/pandas/util/_decorators.py\u001b[0m in \u001b[0;36mwrapper\u001b[0;34m(*args, **kwargs)\u001b[0m\n\u001b[1;32m    329\u001b[0m                     \u001b[0mstacklevel\u001b[0m\u001b[0;34m=\u001b[0m\u001b[0mfind_stack_level\u001b[0m\u001b[0;34m(\u001b[0m\u001b[0;34m)\u001b[0m\u001b[0;34m,\u001b[0m\u001b[0;34m\u001b[0m\u001b[0;34m\u001b[0m\u001b[0m\n\u001b[1;32m    330\u001b[0m                 )\n\u001b[0;32m--> 331\u001b[0;31m             \u001b[0;32mreturn\u001b[0m \u001b[0mfunc\u001b[0m\u001b[0;34m(\u001b[0m\u001b[0;34m*\u001b[0m\u001b[0margs\u001b[0m\u001b[0;34m,\u001b[0m \u001b[0;34m**\u001b[0m\u001b[0mkwargs\u001b[0m\u001b[0;34m)\u001b[0m\u001b[0;34m\u001b[0m\u001b[0;34m\u001b[0m\u001b[0m\n\u001b[0m\u001b[1;32m    332\u001b[0m \u001b[0;34m\u001b[0m\u001b[0m\n\u001b[1;32m    333\u001b[0m         \u001b[0;31m# error: \"Callable[[VarArg(Any), KwArg(Any)], Any]\" has no\u001b[0m\u001b[0;34m\u001b[0m\u001b[0;34m\u001b[0m\u001b[0m\n",
            "\u001b[0;32m/usr/local/lib/python3.9/dist-packages/pandas/io/parsers/readers.py\u001b[0m in \u001b[0;36mread_csv\u001b[0;34m(filepath_or_buffer, sep, delimiter, header, names, index_col, usecols, squeeze, prefix, mangle_dupe_cols, dtype, engine, converters, true_values, false_values, skipinitialspace, skiprows, skipfooter, nrows, na_values, keep_default_na, na_filter, verbose, skip_blank_lines, parse_dates, infer_datetime_format, keep_date_col, date_parser, dayfirst, cache_dates, iterator, chunksize, compression, thousands, decimal, lineterminator, quotechar, quoting, doublequote, escapechar, comment, encoding, encoding_errors, dialect, error_bad_lines, warn_bad_lines, on_bad_lines, delim_whitespace, low_memory, memory_map, float_precision, storage_options)\u001b[0m\n\u001b[1;32m    948\u001b[0m     \u001b[0mkwds\u001b[0m\u001b[0;34m.\u001b[0m\u001b[0mupdate\u001b[0m\u001b[0;34m(\u001b[0m\u001b[0mkwds_defaults\u001b[0m\u001b[0;34m)\u001b[0m\u001b[0;34m\u001b[0m\u001b[0;34m\u001b[0m\u001b[0m\n\u001b[1;32m    949\u001b[0m \u001b[0;34m\u001b[0m\u001b[0m\n\u001b[0;32m--> 950\u001b[0;31m     \u001b[0;32mreturn\u001b[0m \u001b[0m_read\u001b[0m\u001b[0;34m(\u001b[0m\u001b[0mfilepath_or_buffer\u001b[0m\u001b[0;34m,\u001b[0m \u001b[0mkwds\u001b[0m\u001b[0;34m)\u001b[0m\u001b[0;34m\u001b[0m\u001b[0;34m\u001b[0m\u001b[0m\n\u001b[0m\u001b[1;32m    951\u001b[0m \u001b[0;34m\u001b[0m\u001b[0m\n\u001b[1;32m    952\u001b[0m \u001b[0;34m\u001b[0m\u001b[0m\n",
            "\u001b[0;32m/usr/local/lib/python3.9/dist-packages/pandas/io/parsers/readers.py\u001b[0m in \u001b[0;36m_read\u001b[0;34m(filepath_or_buffer, kwds)\u001b[0m\n\u001b[1;32m    603\u001b[0m \u001b[0;34m\u001b[0m\u001b[0m\n\u001b[1;32m    604\u001b[0m     \u001b[0;31m# Create the parser.\u001b[0m\u001b[0;34m\u001b[0m\u001b[0;34m\u001b[0m\u001b[0m\n\u001b[0;32m--> 605\u001b[0;31m     \u001b[0mparser\u001b[0m \u001b[0;34m=\u001b[0m \u001b[0mTextFileReader\u001b[0m\u001b[0;34m(\u001b[0m\u001b[0mfilepath_or_buffer\u001b[0m\u001b[0;34m,\u001b[0m \u001b[0;34m**\u001b[0m\u001b[0mkwds\u001b[0m\u001b[0;34m)\u001b[0m\u001b[0;34m\u001b[0m\u001b[0;34m\u001b[0m\u001b[0m\n\u001b[0m\u001b[1;32m    606\u001b[0m \u001b[0;34m\u001b[0m\u001b[0m\n\u001b[1;32m    607\u001b[0m     \u001b[0;32mif\u001b[0m \u001b[0mchunksize\u001b[0m \u001b[0;32mor\u001b[0m \u001b[0miterator\u001b[0m\u001b[0;34m:\u001b[0m\u001b[0;34m\u001b[0m\u001b[0;34m\u001b[0m\u001b[0m\n",
            "\u001b[0;32m/usr/local/lib/python3.9/dist-packages/pandas/io/parsers/readers.py\u001b[0m in \u001b[0;36m__init__\u001b[0;34m(self, f, engine, **kwds)\u001b[0m\n\u001b[1;32m   1440\u001b[0m \u001b[0;34m\u001b[0m\u001b[0m\n\u001b[1;32m   1441\u001b[0m         \u001b[0mself\u001b[0m\u001b[0;34m.\u001b[0m\u001b[0mhandles\u001b[0m\u001b[0;34m:\u001b[0m \u001b[0mIOHandles\u001b[0m \u001b[0;34m|\u001b[0m \u001b[0;32mNone\u001b[0m \u001b[0;34m=\u001b[0m \u001b[0;32mNone\u001b[0m\u001b[0;34m\u001b[0m\u001b[0;34m\u001b[0m\u001b[0m\n\u001b[0;32m-> 1442\u001b[0;31m         \u001b[0mself\u001b[0m\u001b[0;34m.\u001b[0m\u001b[0m_engine\u001b[0m \u001b[0;34m=\u001b[0m \u001b[0mself\u001b[0m\u001b[0;34m.\u001b[0m\u001b[0m_make_engine\u001b[0m\u001b[0;34m(\u001b[0m\u001b[0mf\u001b[0m\u001b[0;34m,\u001b[0m \u001b[0mself\u001b[0m\u001b[0;34m.\u001b[0m\u001b[0mengine\u001b[0m\u001b[0;34m)\u001b[0m\u001b[0;34m\u001b[0m\u001b[0;34m\u001b[0m\u001b[0m\n\u001b[0m\u001b[1;32m   1443\u001b[0m \u001b[0;34m\u001b[0m\u001b[0m\n\u001b[1;32m   1444\u001b[0m     \u001b[0;32mdef\u001b[0m \u001b[0mclose\u001b[0m\u001b[0;34m(\u001b[0m\u001b[0mself\u001b[0m\u001b[0;34m)\u001b[0m \u001b[0;34m->\u001b[0m \u001b[0;32mNone\u001b[0m\u001b[0;34m:\u001b[0m\u001b[0;34m\u001b[0m\u001b[0;34m\u001b[0m\u001b[0m\n",
            "\u001b[0;32m/usr/local/lib/python3.9/dist-packages/pandas/io/parsers/readers.py\u001b[0m in \u001b[0;36m_make_engine\u001b[0;34m(self, f, engine)\u001b[0m\n\u001b[1;32m   1733\u001b[0m                 \u001b[0;32mif\u001b[0m \u001b[0;34m\"b\"\u001b[0m \u001b[0;32mnot\u001b[0m \u001b[0;32min\u001b[0m \u001b[0mmode\u001b[0m\u001b[0;34m:\u001b[0m\u001b[0;34m\u001b[0m\u001b[0;34m\u001b[0m\u001b[0m\n\u001b[1;32m   1734\u001b[0m                     \u001b[0mmode\u001b[0m \u001b[0;34m+=\u001b[0m \u001b[0;34m\"b\"\u001b[0m\u001b[0;34m\u001b[0m\u001b[0;34m\u001b[0m\u001b[0m\n\u001b[0;32m-> 1735\u001b[0;31m             self.handles = get_handle(\n\u001b[0m\u001b[1;32m   1736\u001b[0m                 \u001b[0mf\u001b[0m\u001b[0;34m,\u001b[0m\u001b[0;34m\u001b[0m\u001b[0;34m\u001b[0m\u001b[0m\n\u001b[1;32m   1737\u001b[0m                 \u001b[0mmode\u001b[0m\u001b[0;34m,\u001b[0m\u001b[0;34m\u001b[0m\u001b[0;34m\u001b[0m\u001b[0m\n",
            "\u001b[0;32m/usr/local/lib/python3.9/dist-packages/pandas/io/common.py\u001b[0m in \u001b[0;36mget_handle\u001b[0;34m(path_or_buf, mode, encoding, compression, memory_map, is_text, errors, storage_options)\u001b[0m\n\u001b[1;32m    854\u001b[0m         \u001b[0;32mif\u001b[0m \u001b[0mioargs\u001b[0m\u001b[0;34m.\u001b[0m\u001b[0mencoding\u001b[0m \u001b[0;32mand\u001b[0m \u001b[0;34m\"b\"\u001b[0m \u001b[0;32mnot\u001b[0m \u001b[0;32min\u001b[0m \u001b[0mioargs\u001b[0m\u001b[0;34m.\u001b[0m\u001b[0mmode\u001b[0m\u001b[0;34m:\u001b[0m\u001b[0;34m\u001b[0m\u001b[0;34m\u001b[0m\u001b[0m\n\u001b[1;32m    855\u001b[0m             \u001b[0;31m# Encoding\u001b[0m\u001b[0;34m\u001b[0m\u001b[0;34m\u001b[0m\u001b[0m\n\u001b[0;32m--> 856\u001b[0;31m             handle = open(\n\u001b[0m\u001b[1;32m    857\u001b[0m                 \u001b[0mhandle\u001b[0m\u001b[0;34m,\u001b[0m\u001b[0;34m\u001b[0m\u001b[0;34m\u001b[0m\u001b[0m\n\u001b[1;32m    858\u001b[0m                 \u001b[0mioargs\u001b[0m\u001b[0;34m.\u001b[0m\u001b[0mmode\u001b[0m\u001b[0;34m,\u001b[0m\u001b[0;34m\u001b[0m\u001b[0;34m\u001b[0m\u001b[0m\n",
            "\u001b[0;31mFileNotFoundError\u001b[0m: [Errno 2] No such file or directory: 'snp500_price_data_2011_to_2020.csv'"
          ]
        }
      ],
      "source": [
        "price_data = pd.read_csv('snp500_price_data_2011_to_2020.csv', index_col=[0])"
      ]
    },
    {
      "cell_type": "code",
      "execution_count": null,
      "id": "dea17828",
      "metadata": {
        "id": "dea17828"
      },
      "outputs": [],
      "source": [
        "price_data.head()"
      ]
    },
    {
      "cell_type": "code",
      "source": [
        "from google.colab import drive\n",
        "drive.mount('/content/drive')"
      ],
      "metadata": {
        "id": "iz8QGpBhAVKb"
      },
      "id": "iz8QGpBhAVKb",
      "execution_count": null,
      "outputs": []
    },
    {
      "cell_type": "markdown",
      "id": "91f81e61",
      "metadata": {
        "id": "91f81e61"
      },
      "source": [
        "## Missing Data due to Index Rebalancing"
      ]
    },
    {
      "cell_type": "code",
      "execution_count": null,
      "id": "2d6ea34d",
      "metadata": {
        "id": "2d6ea34d"
      },
      "outputs": [],
      "source": [
        "figure = plt.figure(figsize=(16, 8))\n",
        "sns.heatmap(price_data.T.isnull());"
      ]
    },
    {
      "cell_type": "markdown",
      "id": "f89ec17c",
      "metadata": {
        "id": "f89ec17c"
      },
      "source": [
        "The missing data is due to the fact that **certain stocks may move out of the S&P 500** and **certain stocks may enter the S&P 500** in this respective timeframe."
      ]
    },
    {
      "cell_type": "code",
      "execution_count": null,
      "id": "a39ae77b",
      "metadata": {
        "id": "a39ae77b"
      },
      "outputs": [],
      "source": [
        "price_data_cleaned = price_data.dropna(axis=1) # dropping na values columnwise"
      ]
    },
    {
      "cell_type": "code",
      "execution_count": null,
      "id": "4f244cb7",
      "metadata": {
        "id": "4f244cb7"
      },
      "outputs": [],
      "source": [
        "figure = plt.figure(figsize=(16, 8))\n",
        "sns.heatmap(price_data_cleaned.T.isnull());"
      ]
    },
    {
      "cell_type": "markdown",
      "id": "17e629e4",
      "metadata": {
        "id": "17e629e4"
      },
      "source": [
        "The null values are removed - the data is clean and the plot also helps in finding that there are no missing values."
      ]
    },
    {
      "cell_type": "markdown",
      "id": "4533db40",
      "metadata": {
        "id": "4533db40"
      },
      "source": [
        "## Getting Yearwise Data"
      ]
    },
    {
      "cell_type": "code",
      "execution_count": null,
      "id": "863cc32d",
      "metadata": {
        "id": "863cc32d"
      },
      "outputs": [],
      "source": [
        "def get_year_wise_snp_500_data(data, year):\n",
        "    year_wise_data = data.loc['{}-01-01'.format(year):'{}-12-31'.format(year)]\n",
        "    \n",
        "    return year_wise_data"
      ]
    },
    {
      "cell_type": "code",
      "execution_count": null,
      "id": "5d398762",
      "metadata": {
        "id": "5d398762"
      },
      "outputs": [],
      "source": [
        "# Getting year wise data of S&P stocks from 2011 to 2020\n",
        "snp_500_2011 = get_year_wise_snp_500_data(price_data_cleaned, 2011)\n",
        "snp_500_2012 = get_year_wise_snp_500_data(price_data_cleaned, 2012)\n",
        "snp_500_2013 = get_year_wise_snp_500_data(price_data_cleaned, 2013)\n",
        "snp_500_2014 = get_year_wise_snp_500_data(price_data_cleaned, 2014)\n",
        "snp_500_2015 = get_year_wise_snp_500_data(price_data_cleaned, 2015)\n",
        "snp_500_2016 = get_year_wise_snp_500_data(price_data_cleaned, 2016)\n",
        "snp_500_2017 = get_year_wise_snp_500_data(price_data_cleaned, 2017)\n",
        "snp_500_2018 = get_year_wise_snp_500_data(price_data_cleaned, 2018)\n",
        "snp_500_2019 = get_year_wise_snp_500_data(price_data_cleaned, 2019)\n",
        "snp_500_2020 = get_year_wise_snp_500_data(price_data_cleaned, 2020)"
      ]
    },
    {
      "cell_type": "code",
      "execution_count": null,
      "id": "f63ceed8",
      "metadata": {
        "id": "f63ceed8"
      },
      "outputs": [],
      "source": [
        "snp_500_2011"
      ]
    },
    {
      "cell_type": "code",
      "execution_count": null,
      "id": "a6721eb1",
      "metadata": {
        "id": "a6721eb1"
      },
      "outputs": [],
      "source": [
        "snp_500_2011.shift(1)"
      ]
    },
    {
      "cell_type": "markdown",
      "id": "acb81b34",
      "metadata": {
        "id": "acb81b34"
      },
      "source": [
        "## Computing the Daily Log Returns"
      ]
    },
    {
      "cell_type": "markdown",
      "id": "20c1cce8",
      "metadata": {
        "id": "20c1cce8"
      },
      "source": [
        "Statistically, **simple stock returns are always assumed to follow a Log Normal distribution.** It is therefore plausible to use properties of the Normal distribution in statistical estimation for Log returns, but not for the simple returns."
      ]
    },
    {
      "cell_type": "markdown",
      "id": "ede342f9",
      "metadata": {
        "id": "ede342f9"
      },
      "source": [
        "Stock Returns analysis is a time series analysis, in which you also take care of stationarity which is normally obtained from Log returns but not from simple returns."
      ]
    },
    {
      "cell_type": "code",
      "execution_count": null,
      "id": "537c6487",
      "metadata": {
        "id": "537c6487"
      },
      "outputs": [],
      "source": [
        "# Calculating daily log returns by subtracting between two days with the help of shift function\n",
        "log_returns_2011 = np.log(snp_500_2011.shift(1)) - np.log(snp_500_2011)\n",
        "log_returns_2012 = np.log(snp_500_2012.shift(1)) - np.log(snp_500_2012)\n",
        "log_returns_2013 = np.log(snp_500_2013.shift(1)) - np.log(snp_500_2013)\n",
        "log_returns_2014 = np.log(snp_500_2014.shift(1)) - np.log(snp_500_2014)\n",
        "log_returns_2015 = np.log(snp_500_2015.shift(1)) - np.log(snp_500_2015)\n",
        "log_returns_2016 = np.log(snp_500_2016.shift(1)) - np.log(snp_500_2016)\n",
        "log_returns_2017 = np.log(snp_500_2017.shift(1)) - np.log(snp_500_2017)\n",
        "log_returns_2018 = np.log(snp_500_2018.shift(1)) - np.log(snp_500_2018)\n",
        "log_returns_2019 = np.log(snp_500_2019.shift(1)) - np.log(snp_500_2019)\n",
        "log_returns_2020 = np.log(snp_500_2020.shift(1)) - np.log(snp_500_2020)"
      ]
    },
    {
      "cell_type": "markdown",
      "id": "ce79259b",
      "metadata": {
        "id": "ce79259b"
      },
      "source": [
        "## Computing the Correlation of Returns"
      ]
    },
    {
      "cell_type": "code",
      "execution_count": null,
      "id": "e650e71b",
      "metadata": {
        "id": "e650e71b"
      },
      "outputs": [],
      "source": [
        "# Computing adjacency matrix:\n",
        "return_correlation_2011 = log_returns_2011.corr()\n",
        "return_correlation_2012 = log_returns_2012.corr()\n",
        "return_correlation_2013 = log_returns_2013.corr()\n",
        "return_correlation_2014 = log_returns_2014.corr()\n",
        "return_correlation_2015 = log_returns_2015.corr()\n",
        "return_correlation_2016 = log_returns_2016.corr()\n",
        "return_correlation_2017 = log_returns_2017.corr()\n",
        "return_correlation_2018 = log_returns_2018.corr()\n",
        "return_correlation_2019 = log_returns_2019.corr()\n",
        "return_correlation_2020 = log_returns_2020.corr()"
      ]
    },
    {
      "cell_type": "code",
      "execution_count": null,
      "id": "d2e28001",
      "metadata": {
        "id": "d2e28001"
      },
      "outputs": [],
      "source": [
        "figure, axes = plt.subplots(5, 2, figsize=(30, 30))\n",
        "sns.heatmap(return_correlation_2011, ax=axes[0, 0]);\n",
        "sns.heatmap(return_correlation_2012, ax=axes[0, 1]);\n",
        "sns.heatmap(return_correlation_2013, ax=axes[1, 0]);\n",
        "sns.heatmap(return_correlation_2014, ax=axes[1, 1]);\n",
        "sns.heatmap(return_correlation_2015, ax=axes[2, 0]);\n",
        "sns.heatmap(return_correlation_2016, ax=axes[2, 1]);\n",
        "sns.heatmap(return_correlation_2017, ax=axes[3, 0]);\n",
        "sns.heatmap(return_correlation_2018, ax=axes[3, 1]);\n",
        "sns.heatmap(return_correlation_2019, ax=axes[4, 0]);\n",
        "sns.heatmap(return_correlation_2020, ax=axes[4, 1]);"
      ]
    },
    {
      "cell_type": "markdown",
      "id": "5b4df40e",
      "metadata": {
        "id": "5b4df40e"
      },
      "source": [
        "## Inferences"
      ]
    },
    {
      "cell_type": "markdown",
      "id": "981898d4",
      "metadata": {
        "id": "981898d4"
      },
      "source": [
        "The first plot for the year 2011 shows that there is high correlation among the stocks. It shows that since 2011 there was a market crash and there was volatility in the market, the prices of the stock went down along with the other stocks and this is the reason for high correlation. "
      ]
    },
    {
      "cell_type": "markdown",
      "id": "9d035562",
      "metadata": {
        "id": "9d035562"
      },
      "source": [
        "Similarly in 2012, 2014 and 2017 the market is kind of stable, and hence the correlation among stocks is low."
      ]
    },
    {
      "cell_type": "markdown",
      "id": "1cbe961b",
      "metadata": {
        "id": "1cbe961b"
      },
      "source": [
        "In 2020, due to the COVID pandemic and the volatility in the market, the prices of the stock went down or up along with other stocks, and this the reason for high correlation."
      ]
    },
    {
      "cell_type": "markdown",
      "id": "bed8358a",
      "metadata": {
        "id": "bed8358a"
      },
      "source": [
        "From this we can infer that, **In stable market conditions, correlation matrices have low correlation values whereas in critical market conditions, correlation matrices have high correlation values.**"
      ]
    },
    {
      "cell_type": "markdown",
      "id": "8fea9bae",
      "metadata": {
        "id": "8fea9bae"
      },
      "source": [
        "## Creating Graphs"
      ]
    },
    {
      "cell_type": "code",
      "execution_count": null,
      "id": "63da1789",
      "metadata": {
        "id": "63da1789"
      },
      "outputs": [],
      "source": [
        "graph_2011 = nx.Graph(return_correlation_2011)"
      ]
    },
    {
      "cell_type": "code",
      "execution_count": null,
      "id": "912d6b7e",
      "metadata": {
        "colab": {
          "base_uri": "https://localhost:8080/",
          "height": 200
        },
        "id": "912d6b7e",
        "outputId": "65a1b36b-476d-4830-b1be-a112931ac680"
      },
      "outputs": [
        {
          "output_type": "error",
          "ename": "NameError",
          "evalue": "ignored",
          "traceback": [
            "\u001b[0;31m---------------------------------------------------------------------------\u001b[0m",
            "\u001b[0;31mNameError\u001b[0m                                 Traceback (most recent call last)",
            "\u001b[0;32m<ipython-input-6-817b70fc6636>\u001b[0m in \u001b[0;36m<cell line: 2>\u001b[0;34m()\u001b[0m\n\u001b[1;32m      1\u001b[0m \u001b[0mfigure\u001b[0m \u001b[0;34m=\u001b[0m \u001b[0mplt\u001b[0m\u001b[0;34m.\u001b[0m\u001b[0mfigure\u001b[0m\u001b[0;34m(\u001b[0m\u001b[0mfigsize\u001b[0m\u001b[0;34m=\u001b[0m\u001b[0;34m(\u001b[0m\u001b[0;36m22\u001b[0m\u001b[0;34m,\u001b[0m \u001b[0;36m10\u001b[0m\u001b[0;34m)\u001b[0m\u001b[0;34m)\u001b[0m\u001b[0;34m\u001b[0m\u001b[0;34m\u001b[0m\u001b[0m\n\u001b[0;32m----> 2\u001b[0;31m \u001b[0mnx\u001b[0m\u001b[0;34m.\u001b[0m\u001b[0mdraw_networkx\u001b[0m\u001b[0;34m(\u001b[0m\u001b[0mgraph_2011\u001b[0m\u001b[0;34m,\u001b[0m \u001b[0mwith_labels\u001b[0m\u001b[0;34m=\u001b[0m\u001b[0;32mTrue\u001b[0m\u001b[0;34m)\u001b[0m\u001b[0;34m\u001b[0m\u001b[0;34m\u001b[0m\u001b[0m\n\u001b[0m",
            "\u001b[0;31mNameError\u001b[0m: name 'graph_2011' is not defined"
          ]
        },
        {
          "output_type": "display_data",
          "data": {
            "text/plain": [
              "<Figure size 2200x1000 with 0 Axes>"
            ]
          },
          "metadata": {}
        }
      ],
      "source": [
        "figure = plt.figure(figsize=(22, 10))\n",
        "nx.draw_networkx(graph_2011, with_labels=True)"
      ]
    },
    {
      "cell_type": "markdown",
      "id": "5ee0cfa9",
      "metadata": {
        "id": "5ee0cfa9"
      },
      "source": [
        "This is a **fully connected network** as we created it using the correlation matrix.\n",
        "\n",
        "A fully connected network means every variable has connections with all the other variables in the network and will also have self-loops."
      ]
    },
    {
      "cell_type": "markdown",
      "id": "2f89e4e4",
      "metadata": {
        "id": "2f89e4e4"
      },
      "source": [
        "## Filtering Graphs using MST"
      ]
    },
    {
      "cell_type": "markdown",
      "id": "7a0b1a35",
      "metadata": {
        "id": "7a0b1a35"
      },
      "source": [
        "**MST - Minimum Spanning Tree**"
      ]
    },
    {
      "cell_type": "markdown",
      "id": "0fa3ea7a",
      "metadata": {
        "id": "0fa3ea7a"
      },
      "source": [
        "A minimum spanning tree (MST) or minimum weight spanning tree is a subset of the edges of a connected, edge-weighted undirected graph that connects all the vertices together, without any cycles and with the minimum possible total edge weight. That is, it is a spanning tree whose sum of edge weights is as small as possible."
      ]
    },
    {
      "cell_type": "markdown",
      "id": "d41ca28e",
      "metadata": {
        "id": "d41ca28e"
      },
      "source": [
        "**MST** is one of the popular techniques to eliminate the redundancies and noise and meanwhile maintain the significant links in the network."
      ]
    },
    {
      "cell_type": "markdown",
      "id": "8960ea82",
      "metadata": {
        "id": "8960ea82"
      },
      "source": [
        "While removing redundancy and noise in the data using MST, we might lose some information as well."
      ]
    },
    {
      "cell_type": "markdown",
      "id": "c2fab4b1",
      "metadata": {
        "id": "c2fab4b1"
      },
      "source": [
        "You can find more on MST [here](https://visualgo.net/en/mst)"
      ]
    },
    {
      "cell_type": "code",
      "execution_count": null,
      "id": "797a4f32",
      "metadata": {
        "colab": {
          "base_uri": "https://localhost:8080/",
          "height": 235
        },
        "id": "797a4f32",
        "outputId": "6b5335c5-23db-4850-a2c5-a2cbc5b78eca"
      },
      "outputs": [
        {
          "output_type": "error",
          "ename": "NameError",
          "evalue": "ignored",
          "traceback": [
            "\u001b[0;31m---------------------------------------------------------------------------\u001b[0m",
            "\u001b[0;31mNameError\u001b[0m                                 Traceback (most recent call last)",
            "\u001b[0;32m<ipython-input-7-8f19c5038911>\u001b[0m in \u001b[0;36m<cell line: 1>\u001b[0;34m()\u001b[0m\n\u001b[0;32m----> 1\u001b[0;31m \u001b[0mdistance_2011\u001b[0m \u001b[0;34m=\u001b[0m \u001b[0mnp\u001b[0m\u001b[0;34m.\u001b[0m\u001b[0msqrt\u001b[0m\u001b[0;34m(\u001b[0m\u001b[0;36m2\u001b[0m \u001b[0;34m*\u001b[0m \u001b[0;34m(\u001b[0m\u001b[0;36m1\u001b[0m \u001b[0;34m-\u001b[0m \u001b[0mreturn_correlation_2011\u001b[0m\u001b[0;34m)\u001b[0m\u001b[0;34m)\u001b[0m\u001b[0;34m\u001b[0m\u001b[0;34m\u001b[0m\u001b[0m\n\u001b[0m\u001b[1;32m      2\u001b[0m \u001b[0mdistance_2012\u001b[0m \u001b[0;34m=\u001b[0m \u001b[0mnp\u001b[0m\u001b[0;34m.\u001b[0m\u001b[0msqrt\u001b[0m\u001b[0;34m(\u001b[0m\u001b[0;36m2\u001b[0m \u001b[0;34m*\u001b[0m \u001b[0;34m(\u001b[0m\u001b[0;36m1\u001b[0m \u001b[0;34m-\u001b[0m \u001b[0mreturn_correlation_2012\u001b[0m\u001b[0;34m)\u001b[0m\u001b[0;34m)\u001b[0m\u001b[0;34m\u001b[0m\u001b[0;34m\u001b[0m\u001b[0m\n\u001b[1;32m      3\u001b[0m \u001b[0mdistance_2013\u001b[0m \u001b[0;34m=\u001b[0m \u001b[0mnp\u001b[0m\u001b[0;34m.\u001b[0m\u001b[0msqrt\u001b[0m\u001b[0;34m(\u001b[0m\u001b[0;36m2\u001b[0m \u001b[0;34m*\u001b[0m \u001b[0;34m(\u001b[0m\u001b[0;36m1\u001b[0m \u001b[0;34m-\u001b[0m \u001b[0mreturn_correlation_2013\u001b[0m\u001b[0;34m)\u001b[0m\u001b[0;34m)\u001b[0m\u001b[0;34m\u001b[0m\u001b[0;34m\u001b[0m\u001b[0m\n\u001b[1;32m      4\u001b[0m \u001b[0mdistance_2014\u001b[0m \u001b[0;34m=\u001b[0m \u001b[0mnp\u001b[0m\u001b[0;34m.\u001b[0m\u001b[0msqrt\u001b[0m\u001b[0;34m(\u001b[0m\u001b[0;36m2\u001b[0m \u001b[0;34m*\u001b[0m \u001b[0;34m(\u001b[0m\u001b[0;36m1\u001b[0m \u001b[0;34m-\u001b[0m \u001b[0mreturn_correlation_2014\u001b[0m\u001b[0;34m)\u001b[0m\u001b[0;34m)\u001b[0m\u001b[0;34m\u001b[0m\u001b[0;34m\u001b[0m\u001b[0m\n\u001b[1;32m      5\u001b[0m \u001b[0mdistance_2015\u001b[0m \u001b[0;34m=\u001b[0m \u001b[0mnp\u001b[0m\u001b[0;34m.\u001b[0m\u001b[0msqrt\u001b[0m\u001b[0;34m(\u001b[0m\u001b[0;36m2\u001b[0m \u001b[0;34m*\u001b[0m \u001b[0;34m(\u001b[0m\u001b[0;36m1\u001b[0m \u001b[0;34m-\u001b[0m \u001b[0mreturn_correlation_2015\u001b[0m\u001b[0;34m)\u001b[0m\u001b[0;34m)\u001b[0m\u001b[0;34m\u001b[0m\u001b[0;34m\u001b[0m\u001b[0m\n",
            "\u001b[0;31mNameError\u001b[0m: name 'return_correlation_2011' is not defined"
          ]
        }
      ],
      "source": [
        "distance_2011 = np.sqrt(2 * (1 - return_correlation_2011))\n",
        "distance_2012 = np.sqrt(2 * (1 - return_correlation_2012))\n",
        "distance_2013 = np.sqrt(2 * (1 - return_correlation_2013))\n",
        "distance_2014 = np.sqrt(2 * (1 - return_correlation_2014))\n",
        "distance_2015 = np.sqrt(2 * (1 - return_correlation_2015))\n",
        "distance_2016 = np.sqrt(2 * (1 - return_correlation_2016))\n",
        "distance_2017 = np.sqrt(2 * (1 - return_correlation_2017))\n",
        "distance_2018 = np.sqrt(2 * (1 - return_correlation_2018))\n",
        "distance_2019 = np.sqrt(2 * (1 - return_correlation_2019))\n",
        "distance_2020 = np.sqrt(2 * (1 - return_correlation_2020))"
      ]
    },
    {
      "cell_type": "markdown",
      "id": "722efd1a",
      "metadata": {
        "id": "722efd1a"
      },
      "source": [
        "Before the construction of the MST graph, **the correlation coefficient is converted into a distance.**"
      ]
    },
    {
      "cell_type": "code",
      "execution_count": null,
      "id": "d2cdcd41",
      "metadata": {
        "colab": {
          "base_uri": "https://localhost:8080/",
          "height": 235
        },
        "id": "d2cdcd41",
        "outputId": "6b16d4a5-c0e9-4279-f4fe-93b70a9d0234"
      },
      "outputs": [
        {
          "output_type": "error",
          "ename": "NameError",
          "evalue": "ignored",
          "traceback": [
            "\u001b[0;31m---------------------------------------------------------------------------\u001b[0m",
            "\u001b[0;31mNameError\u001b[0m                                 Traceback (most recent call last)",
            "\u001b[0;32m<ipython-input-8-6aa0a64026dc>\u001b[0m in \u001b[0;36m<cell line: 1>\u001b[0;34m()\u001b[0m\n\u001b[0;32m----> 1\u001b[0;31m \u001b[0mdistance_2011_graph\u001b[0m \u001b[0;34m=\u001b[0m \u001b[0mnx\u001b[0m\u001b[0;34m.\u001b[0m\u001b[0mGraph\u001b[0m\u001b[0;34m(\u001b[0m\u001b[0mdistance_2011\u001b[0m\u001b[0;34m)\u001b[0m\u001b[0;34m\u001b[0m\u001b[0;34m\u001b[0m\u001b[0m\n\u001b[0m\u001b[1;32m      2\u001b[0m \u001b[0mdistance_2012_graph\u001b[0m \u001b[0;34m=\u001b[0m \u001b[0mnx\u001b[0m\u001b[0;34m.\u001b[0m\u001b[0mGraph\u001b[0m\u001b[0;34m(\u001b[0m\u001b[0mdistance_2012\u001b[0m\u001b[0;34m)\u001b[0m\u001b[0;34m\u001b[0m\u001b[0;34m\u001b[0m\u001b[0m\n\u001b[1;32m      3\u001b[0m \u001b[0mdistance_2013_graph\u001b[0m \u001b[0;34m=\u001b[0m \u001b[0mnx\u001b[0m\u001b[0;34m.\u001b[0m\u001b[0mGraph\u001b[0m\u001b[0;34m(\u001b[0m\u001b[0mdistance_2013\u001b[0m\u001b[0;34m)\u001b[0m\u001b[0;34m\u001b[0m\u001b[0;34m\u001b[0m\u001b[0m\n\u001b[1;32m      4\u001b[0m \u001b[0mdistance_2014_graph\u001b[0m \u001b[0;34m=\u001b[0m \u001b[0mnx\u001b[0m\u001b[0;34m.\u001b[0m\u001b[0mGraph\u001b[0m\u001b[0;34m(\u001b[0m\u001b[0mdistance_2014\u001b[0m\u001b[0;34m)\u001b[0m\u001b[0;34m\u001b[0m\u001b[0;34m\u001b[0m\u001b[0m\n\u001b[1;32m      5\u001b[0m \u001b[0mdistance_2015_graph\u001b[0m \u001b[0;34m=\u001b[0m \u001b[0mnx\u001b[0m\u001b[0;34m.\u001b[0m\u001b[0mGraph\u001b[0m\u001b[0;34m(\u001b[0m\u001b[0mdistance_2015\u001b[0m\u001b[0;34m)\u001b[0m\u001b[0;34m\u001b[0m\u001b[0;34m\u001b[0m\u001b[0m\n",
            "\u001b[0;31mNameError\u001b[0m: name 'distance_2011' is not defined"
          ]
        }
      ],
      "source": [
        "distance_2011_graph = nx.Graph(distance_2011)\n",
        "distance_2012_graph = nx.Graph(distance_2012)\n",
        "distance_2013_graph = nx.Graph(distance_2013)\n",
        "distance_2014_graph = nx.Graph(distance_2014)\n",
        "distance_2015_graph = nx.Graph(distance_2015)\n",
        "distance_2016_graph = nx.Graph(distance_2016)\n",
        "distance_2017_graph = nx.Graph(distance_2017)\n",
        "distance_2018_graph = nx.Graph(distance_2018)\n",
        "distance_2019_graph = nx.Graph(distance_2019)\n",
        "distance_2020_graph = nx.Graph(distance_2020)"
      ]
    },
    {
      "cell_type": "code",
      "execution_count": null,
      "id": "33e2f2bf",
      "metadata": {
        "id": "33e2f2bf"
      },
      "outputs": [],
      "source": [
        "graph_2011_filtered = nx.minimum_spanning_tree(distance_2011_graph)\n",
        "graph_2012_filtered = nx.minimum_spanning_tree(distance_2012_graph)\n",
        "graph_2013_filtered = nx.minimum_spanning_tree(distance_2013_graph)\n",
        "graph_2014_filtered = nx.minimum_spanning_tree(distance_2014_graph)\n",
        "graph_2015_filtered = nx.minimum_spanning_tree(distance_2015_graph)\n",
        "graph_2016_filtered = nx.minimum_spanning_tree(distance_2016_graph)\n",
        "graph_2017_filtered = nx.minimum_spanning_tree(distance_2017_graph)\n",
        "graph_2018_filtered = nx.minimum_spanning_tree(distance_2018_graph)\n",
        "graph_2019_filtered = nx.minimum_spanning_tree(distance_2019_graph)\n",
        "graph_2020_filtered = nx.minimum_spanning_tree(distance_2020_graph)"
      ]
    },
    {
      "cell_type": "markdown",
      "id": "5ef896df",
      "metadata": {
        "id": "5ef896df"
      },
      "source": [
        "We choose the MST method to filter out the network graph in each window so as to eliminate the redundancies and noise, and still maintain significant links."
      ]
    },
    {
      "cell_type": "code",
      "execution_count": null,
      "id": "1aaab4a7",
      "metadata": {
        "scrolled": false,
        "colab": {
          "base_uri": "https://localhost:8080/",
          "height": 1000
        },
        "id": "1aaab4a7",
        "outputId": "343a24e3-14f0-43ef-bcc8-86726d0cd51c"
      },
      "outputs": [
        {
          "output_type": "error",
          "ename": "NameError",
          "evalue": "ignored",
          "traceback": [
            "\u001b[0;31m---------------------------------------------------------------------------\u001b[0m",
            "\u001b[0;31mNameError\u001b[0m                                 Traceback (most recent call last)",
            "\u001b[0;32m<ipython-input-9-6b2d8e24d291>\u001b[0m in \u001b[0;36m<cell line: 2>\u001b[0;34m()\u001b[0m\n\u001b[1;32m      1\u001b[0m \u001b[0mfigure\u001b[0m\u001b[0;34m,\u001b[0m \u001b[0maxes\u001b[0m \u001b[0;34m=\u001b[0m \u001b[0mplt\u001b[0m\u001b[0;34m.\u001b[0m\u001b[0msubplots\u001b[0m\u001b[0;34m(\u001b[0m\u001b[0;36m10\u001b[0m\u001b[0;34m,\u001b[0m \u001b[0;36m1\u001b[0m\u001b[0;34m,\u001b[0m \u001b[0mfigsize\u001b[0m\u001b[0;34m=\u001b[0m\u001b[0;34m(\u001b[0m\u001b[0;36m24\u001b[0m\u001b[0;34m,\u001b[0m \u001b[0;36m120\u001b[0m\u001b[0;34m)\u001b[0m\u001b[0;34m)\u001b[0m\u001b[0;34m\u001b[0m\u001b[0;34m\u001b[0m\u001b[0m\n\u001b[0;32m----> 2\u001b[0;31m \u001b[0mnx\u001b[0m\u001b[0;34m.\u001b[0m\u001b[0mdraw_networkx\u001b[0m\u001b[0;34m(\u001b[0m\u001b[0mgraph_2011_filtered\u001b[0m\u001b[0;34m,\u001b[0m \u001b[0mwith_labels\u001b[0m\u001b[0;34m=\u001b[0m\u001b[0;32mTrue\u001b[0m\u001b[0;34m,\u001b[0m \u001b[0max\u001b[0m\u001b[0;34m=\u001b[0m\u001b[0maxes\u001b[0m\u001b[0;34m[\u001b[0m\u001b[0;36m0\u001b[0m\u001b[0;34m]\u001b[0m\u001b[0;34m)\u001b[0m\u001b[0;34m\u001b[0m\u001b[0;34m\u001b[0m\u001b[0m\n\u001b[0m\u001b[1;32m      3\u001b[0m \u001b[0mnx\u001b[0m\u001b[0;34m.\u001b[0m\u001b[0mdraw_networkx\u001b[0m\u001b[0;34m(\u001b[0m\u001b[0mgraph_2012_filtered\u001b[0m\u001b[0;34m,\u001b[0m \u001b[0mwith_labels\u001b[0m\u001b[0;34m=\u001b[0m\u001b[0;32mTrue\u001b[0m\u001b[0;34m,\u001b[0m \u001b[0max\u001b[0m\u001b[0;34m=\u001b[0m\u001b[0maxes\u001b[0m\u001b[0;34m[\u001b[0m\u001b[0;36m1\u001b[0m\u001b[0;34m]\u001b[0m\u001b[0;34m)\u001b[0m\u001b[0;34m\u001b[0m\u001b[0;34m\u001b[0m\u001b[0m\n\u001b[1;32m      4\u001b[0m \u001b[0mnx\u001b[0m\u001b[0;34m.\u001b[0m\u001b[0mdraw_networkx\u001b[0m\u001b[0;34m(\u001b[0m\u001b[0mgraph_2013_filtered\u001b[0m\u001b[0;34m,\u001b[0m \u001b[0mwith_labels\u001b[0m\u001b[0;34m=\u001b[0m\u001b[0;32mTrue\u001b[0m\u001b[0;34m,\u001b[0m \u001b[0max\u001b[0m\u001b[0;34m=\u001b[0m\u001b[0maxes\u001b[0m\u001b[0;34m[\u001b[0m\u001b[0;36m2\u001b[0m\u001b[0;34m]\u001b[0m\u001b[0;34m)\u001b[0m\u001b[0;34m\u001b[0m\u001b[0;34m\u001b[0m\u001b[0m\n\u001b[1;32m      5\u001b[0m \u001b[0mnx\u001b[0m\u001b[0;34m.\u001b[0m\u001b[0mdraw_networkx\u001b[0m\u001b[0;34m(\u001b[0m\u001b[0mgraph_2014_filtered\u001b[0m\u001b[0;34m,\u001b[0m \u001b[0mwith_labels\u001b[0m\u001b[0;34m=\u001b[0m\u001b[0;32mTrue\u001b[0m\u001b[0;34m,\u001b[0m \u001b[0max\u001b[0m\u001b[0;34m=\u001b[0m\u001b[0maxes\u001b[0m\u001b[0;34m[\u001b[0m\u001b[0;36m3\u001b[0m\u001b[0;34m]\u001b[0m\u001b[0;34m)\u001b[0m\u001b[0;34m\u001b[0m\u001b[0;34m\u001b[0m\u001b[0m\n",
            "\u001b[0;31mNameError\u001b[0m: name 'graph_2011_filtered' is not defined"
          ]
        },
        {
          "output_type": "display_data",
          "data": {
            "text/plain": [
              "<Figure size 2400x12000 with 10 Axes>"
            ],
            "image/png": "[encoded data removed]"
          },
          "metadata": {}
        }
      ],
      "source": [
        "figure, axes = plt.subplots(10, 1, figsize=(24, 120))\n",
        "nx.draw_networkx(graph_2011_filtered, with_labels=True, ax=axes[0])\n",
        "nx.draw_networkx(graph_2012_filtered, with_labels=True, ax=axes[1])\n",
        "nx.draw_networkx(graph_2013_filtered, with_labels=True, ax=axes[2])\n",
        "nx.draw_networkx(graph_2014_filtered, with_labels=True, ax=axes[3])\n",
        "nx.draw_networkx(graph_2015_filtered, with_labels=True, ax=axes[4])\n",
        "nx.draw_networkx(graph_2016_filtered, with_labels=True, ax=axes[5])\n",
        "nx.draw_networkx(graph_2017_filtered, with_labels=True, ax=axes[6])\n",
        "nx.draw_networkx(graph_2018_filtered, with_labels=True, ax=axes[7])\n",
        "nx.draw_networkx(graph_2019_filtered, with_labels=True, ax=axes[8])\n",
        "nx.draw_networkx(graph_2020_filtered, with_labels=True, ax=axes[9])"
      ]
    },
    {
      "cell_type": "markdown",
      "id": "e115988e",
      "metadata": {
        "id": "e115988e"
      },
      "source": [
        "On plotting the graphs, we see that the network looks different every year, and no two yearwise graphs look very similar."
      ]
    },
    {
      "cell_type": "markdown",
      "id": "a2f41f68",
      "metadata": {
        "id": "a2f41f68"
      },
      "source": [
        "## Computing Graph Statistics over Time"
      ]
    },
    {
      "cell_type": "code",
      "execution_count": null,
      "id": "925553cc",
      "metadata": {
        "id": "925553cc"
      },
      "outputs": [],
      "source": [
        "average_degree_connectivity = []\n",
        "average_shortest_path_length = []\n",
        "year = [2011, 2012, 2013, 2014, 2015, 2016, 2017, 2018, 2019, 2020]\n",
        "\n",
        "for graph in [graph_2011_filtered, graph_2012_filtered, graph_2013_filtered, graph_2014_filtered, graph_2015_filtered, \n",
        "             graph_2016_filtered, graph_2017_filtered, graph_2018_filtered, graph_2019_filtered, graph_2020_filtered]:\n",
        "    average_shortest_path_length.append(nx.average_shortest_path_length(graph))"
      ]
    },
    {
      "cell_type": "code",
      "execution_count": null,
      "id": "d0bc6b46",
      "metadata": {
        "id": "d0bc6b46"
      },
      "outputs": [],
      "source": [
        "figure = plt.figure(figsize=(22, 8))\n",
        "sns.lineplot(x='year', y='average_shortest_path_length', \n",
        "             data=pd.DataFrame({'year': year, 'average_shortest_path_length': average_shortest_path_length}));"
      ]
    },
    {
      "cell_type": "markdown",
      "id": "0ebd1dfa",
      "metadata": {
        "id": "0ebd1dfa"
      },
      "source": [
        "From the above plot, we can see that the shortest path length was more stable till 2015 but there was significant increment in 2016 and 2017 and again there was a decrement in 2018. In 2020, there was an increment again. Maybe, this has some correlation with finacial queries."
      ]
    },
    {
      "cell_type": "markdown",
      "id": "b46a4e45",
      "metadata": {
        "id": "b46a4e45"
      },
      "source": [
        "## Portfolio Construction"
      ]
    },
    {
      "cell_type": "code",
      "execution_count": null,
      "id": "363f0cba",
      "metadata": {
        "id": "363f0cba"
      },
      "outputs": [],
      "source": [
        "log_returns_2011_till_2020 = np.log(price_data_cleaned.shift(1)) - np.log(price_data_cleaned)\n",
        "return_correlation_2011_till_2020 = log_returns_2011_till_2020.corr()"
      ]
    },
    {
      "cell_type": "code",
      "execution_count": null,
      "id": "fa242c2f",
      "metadata": {
        "id": "fa242c2f"
      },
      "outputs": [],
      "source": [
        "figure = plt.figure(figsize=(24, 8))\n",
        "sns.heatmap(return_correlation_2011_till_2020);"
      ]
    },
    {
      "cell_type": "code",
      "execution_count": null,
      "id": "465c9ae4",
      "metadata": {
        "id": "465c9ae4"
      },
      "outputs": [],
      "source": [
        "distance_2011_till_2020 = np.sqrt(2 * (1 - return_correlation_2011_till_2020))\n",
        "distance_2011_till_2020_graph = nx.Graph(distance_2011_till_2020)\n",
        "distance_2011_till_2020_graph_filtered = nx.minimum_spanning_tree(distance_2011_till_2020_graph)"
      ]
    },
    {
      "cell_type": "code",
      "execution_count": null,
      "id": "b0caf62b",
      "metadata": {
        "id": "b0caf62b"
      },
      "outputs": [],
      "source": [
        "figure = plt.figure(figsize=(24, 8))\n",
        "nx.draw_kamada_kawai(distance_2011_till_2020_graph_filtered, with_labels=True)"
      ]
    },
    {
      "cell_type": "code",
      "execution_count": null,
      "id": "58b1f3bb",
      "metadata": {
        "id": "58b1f3bb"
      },
      "outputs": [],
      "source": [
        "degree_centrality = nx.degree_centrality(distance_2011_till_2020_graph_filtered)\n",
        "closeness_centrality = nx.closeness_centrality(distance_2011_till_2020_graph_filtered)\n",
        "betweenness_centrality = nx.betweenness_centrality(distance_2011_till_2020_graph_filtered)\n",
        "eigenvector_centrality=nx.eigenvector_centrality_numpy(distance_2011_till_2020_graph_filtered)"
      ]
    },
    {
      "cell_type": "code",
      "execution_count": null,
      "id": "90d1e00c",
      "metadata": {
        "id": "90d1e00c"
      },
      "outputs": [],
      "source": [
        "keys = []\n",
        "values = []\n",
        "\n",
        "for key, value in degree_centrality.items():\n",
        "    keys.append(key)\n",
        "    values.append(value)\n",
        "\n",
        "dc_data = pd.DataFrame({'stocks': keys, 'degree_centrality': values}).sort_values('degree_centrality', ascending=False)\n",
        "px.bar(data_frame=dc_data, x='stocks', y='degree_centrality', template='plotly_dark')"
      ]
    },
    {
      "cell_type": "markdown",
      "id": "8e1fca31",
      "metadata": {
        "id": "8e1fca31"
      },
      "source": [
        "**Degree centrality** is the simplest centrality measure. It defines the relative significance of a stock in terms of the **number of edges incident upon it.** The stocks with the high scores will influence the behavio of many other stocks which are directly connected to it."
      ]
    },
    {
      "cell_type": "markdown",
      "id": "a566082c",
      "metadata": {
        "id": "a566082c"
      },
      "source": [
        "Based on this measure, **HON has the highest number of edges with other stocks and hence the highest degree centrality.**"
      ]
    },
    {
      "cell_type": "code",
      "execution_count": null,
      "id": "552acc9b",
      "metadata": {
        "id": "552acc9b"
      },
      "outputs": [],
      "source": [
        "keys = []\n",
        "values = []\n",
        "\n",
        "for key, value in closeness_centrality.items():\n",
        "    keys.append(key)\n",
        "    values.append(value)\n",
        "\n",
        "cc_data = pd.DataFrame({'stocks': keys, 'closeness_centrality': values}).sort_values('closeness_centrality', \n",
        "                                                                                       ascending=False)\n",
        "px.bar(data_frame=cc_data, x='stocks', y='closeness_centrality', template='plotly_dark')"
      ]
    },
    {
      "cell_type": "markdown",
      "id": "35af4530",
      "metadata": {
        "id": "35af4530"
      },
      "source": [
        "**Closeness centrality** also involves the shortest path between all possible pairs of stocks on a network."
      ]
    },
    {
      "cell_type": "markdown",
      "id": "b524228f",
      "metadata": {
        "id": "b524228f"
      },
      "source": [
        "It is defined as the average number of shortest paths between a stock and all the other stocks reachable from it."
      ]
    },
    {
      "cell_type": "code",
      "execution_count": null,
      "id": "b2c37bf4",
      "metadata": {
        "id": "b2c37bf4"
      },
      "outputs": [],
      "source": [
        "keys = []\n",
        "values = []\n",
        "\n",
        "for key, value in betweenness_centrality.items():\n",
        "    keys.append(key)\n",
        "    values.append(value)\n",
        "\n",
        "bc_data = pd.DataFrame({'stocks': keys, 'betweenness_centrality': values}).sort_values('betweenness_centrality', \n",
        "                                                                                       ascending=False)\n",
        "px.bar(data_frame=bc_data, x='stocks', y='betweenness_centrality', template='plotly_dark')"
      ]
    },
    {
      "cell_type": "markdown",
      "id": "de8fb4c2",
      "metadata": {
        "id": "de8fb4c2"
      },
      "source": [
        "**Betweenness centrality** is the sum of the fraction of all possible shortest paths between any stocks that pass through a stock. It is used to **quantify the control of a stock on information flow in the network.**"
      ]
    },
    {
      "cell_type": "markdown",
      "id": "ebe5db0b",
      "metadata": {
        "id": "ebe5db0b"
      },
      "source": [
        "Therefore, the stock the highest score is considered a significant stock in terms of its role in coordinating the information among stocks."
      ]
    },
    {
      "cell_type": "markdown",
      "id": "7c196ecf",
      "metadata": {
        "id": "7c196ecf"
      },
      "source": [
        "## Selecting Stocks based on Network Topological Parameters"
      ]
    },
    {
      "cell_type": "code",
      "execution_count": null,
      "id": "47b6933c",
      "metadata": {
        "id": "47b6933c"
      },
      "outputs": [],
      "source": [
        "# we already computed degree centrality above\n",
        "\n",
        "# we already computed betweenness centrality above\n",
        "\n",
        "# distance on degree criterion\n",
        "distance_degree_criteria = {}\n",
        "node_with_largest_degree_centrality = max(dict(degree_centrality), key=dict(degree_centrality).get)\n",
        "for node in distance_2011_till_2020_graph_filtered.nodes():\n",
        "    distance_degree_criteria[node] = nx.shortest_path_length(distance_2011_till_2020_graph_filtered, node, \n",
        "                                                             node_with_largest_degree_centrality)\n",
        "\n",
        "# distance on correlation criterion\n",
        "distance_correlation_criteria = {}\n",
        "sum_correlation = {}\n",
        "\n",
        "for node in distance_2011_till_2020_graph_filtered.nodes():\n",
        "    neighbors = nx.neighbors(distance_2011_till_2020_graph_filtered, node)\n",
        "    sum_correlation[node] = sum(return_correlation_2011_till_2020[node][neighbor] for neighbor in neighbors)\n",
        "\n",
        "node_with_highest_correlation = max(sum_correlation, key=sum_correlation.get)\n",
        "    \n",
        "for node in distance_2011_till_2020_graph_filtered.nodes():\n",
        "    distance_correlation_criteria[node] = nx.shortest_path_length(distance_2011_till_2020_graph_filtered, node, \n",
        "                                                             node_with_highest_correlation)    \n",
        "\n",
        "# distance on distance criterion\n",
        "distance_distance_criteria = {}\n",
        "mean_distance = {}\n",
        "\n",
        "for node in distance_2011_till_2020_graph_filtered.nodes():\n",
        "    nodes = list(distance_2011_till_2020_graph_filtered.nodes())\n",
        "    nodes.remove(node)\n",
        "    distance_distance = [nx.shortest_path_length(distance_2011_till_2020_graph_filtered, node, ns) for ns in nodes]\n",
        "    mean_distance[node] = np.mean(distance_distance)\n",
        "    \n",
        "node_with_minimum_mean_distance = min(mean_distance, key=mean_distance.get)\n",
        "\n",
        "for node in distance_2011_till_2020_graph_filtered.nodes():\n",
        "    distance_distance_criteria[node] = nx.shortest_path_length(distance_2011_till_2020_graph_filtered, node, \n",
        "                                                             node_with_minimum_mean_distance)"
      ]
    },
    {
      "cell_type": "markdown",
      "id": "bcb0e279",
      "metadata": {
        "id": "bcb0e279"
      },
      "source": [
        "**Distance refers to the smallest length from a node to the central node of the network.**"
      ]
    },
    {
      "cell_type": "markdown",
      "id": "cabad2b0",
      "metadata": {
        "id": "cabad2b0"
      },
      "source": [
        "Here, three types of definitions of central node are introduced to reduce the error caused by a single method."
      ]
    },
    {
      "cell_type": "markdown",
      "id": "5ba65e92",
      "metadata": {
        "id": "5ba65e92"
      },
      "source": [
        "Therefore three types of distances are described here."
      ]
    },
    {
      "cell_type": "markdown",
      "id": "ece37660",
      "metadata": {
        "id": "ece37660"
      },
      "source": [
        "**1. Distance on degree criterion** (Ddegree). the central node is the one that has the largest degree."
      ]
    },
    {
      "cell_type": "markdown",
      "id": "885ab091",
      "metadata": {
        "id": "885ab091"
      },
      "source": [
        "**2. Distance on correlation criterion** (Dcorrelation), the central node is the one with the highest value of the sum correlation coefficients with its neighbors."
      ]
    },
    {
      "cell_type": "markdown",
      "id": "4d93438e",
      "metadata": {
        "id": "4d93438e"
      },
      "source": [
        "**3. Distance on distance criterion** (Ddistance), the central node is the one that produces the lowest value for the mean distance."
      ]
    },
    {
      "cell_type": "code",
      "execution_count": null,
      "id": "0aabf74a",
      "metadata": {
        "colab": {
          "base_uri": "https://localhost:8080/",
          "height": 235
        },
        "id": "0aabf74a",
        "outputId": "753d5130-8ccb-49b2-eb80-419888987dc2"
      },
      "outputs": [
        {
          "output_type": "error",
          "ename": "NameError",
          "evalue": "ignored",
          "traceback": [
            "\u001b[0;31m---------------------------------------------------------------------------\u001b[0m",
            "\u001b[0;31mNameError\u001b[0m                                 Traceback (most recent call last)",
            "\u001b[0;32m<ipython-input-10-e05df1a9f979>\u001b[0m in \u001b[0;36m<cell line: 1>\u001b[0;34m()\u001b[0m\n\u001b[0;32m----> 1\u001b[0;31m \u001b[0mnode_stats\u001b[0m \u001b[0;34m=\u001b[0m \u001b[0mpd\u001b[0m\u001b[0;34m.\u001b[0m\u001b[0mDataFrame\u001b[0m\u001b[0;34m.\u001b[0m\u001b[0mfrom_dict\u001b[0m\u001b[0;34m(\u001b[0m\u001b[0mdict\u001b[0m\u001b[0;34m(\u001b[0m\u001b[0mdegree_centrality\u001b[0m\u001b[0;34m)\u001b[0m\u001b[0;34m,\u001b[0m \u001b[0morient\u001b[0m\u001b[0;34m=\u001b[0m\u001b[0;34m'index'\u001b[0m\u001b[0;34m)\u001b[0m\u001b[0;34m\u001b[0m\u001b[0;34m\u001b[0m\u001b[0m\n\u001b[0m\u001b[1;32m      2\u001b[0m \u001b[0mnode_stats\u001b[0m\u001b[0;34m.\u001b[0m\u001b[0mcolumns\u001b[0m \u001b[0;34m=\u001b[0m \u001b[0;34m[\u001b[0m\u001b[0;34m'degree_centrality'\u001b[0m\u001b[0;34m]\u001b[0m\u001b[0;34m\u001b[0m\u001b[0;34m\u001b[0m\u001b[0m\n\u001b[1;32m      3\u001b[0m \u001b[0mnode_stats\u001b[0m\u001b[0;34m[\u001b[0m\u001b[0;34m'betweenness_centrality'\u001b[0m\u001b[0;34m]\u001b[0m \u001b[0;34m=\u001b[0m \u001b[0mbetweenness_centrality\u001b[0m\u001b[0;34m.\u001b[0m\u001b[0mvalues\u001b[0m\u001b[0;34m(\u001b[0m\u001b[0;34m)\u001b[0m\u001b[0;34m\u001b[0m\u001b[0;34m\u001b[0m\u001b[0m\n\u001b[1;32m      4\u001b[0m \u001b[0;34m\u001b[0m\u001b[0m\n\u001b[1;32m      5\u001b[0m \u001b[0mnode_stats\u001b[0m\u001b[0;34m[\u001b[0m\u001b[0;34m'average_centrality'\u001b[0m\u001b[0;34m]\u001b[0m \u001b[0;34m=\u001b[0m \u001b[0;36m0.5\u001b[0m \u001b[0;34m*\u001b[0m \u001b[0;34m(\u001b[0m\u001b[0mnode_stats\u001b[0m\u001b[0;34m[\u001b[0m\u001b[0;34m'degree_centrality'\u001b[0m\u001b[0;34m]\u001b[0m \u001b[0;34m+\u001b[0m \u001b[0mnode_stats\u001b[0m\u001b[0;34m[\u001b[0m\u001b[0;34m'betweenness_centrality'\u001b[0m\u001b[0;34m]\u001b[0m\u001b[0;34m)\u001b[0m\u001b[0;34m\u001b[0m\u001b[0;34m\u001b[0m\u001b[0m\n",
            "\u001b[0;31mNameError\u001b[0m: name 'degree_centrality' is not defined"
          ]
        }
      ],
      "source": [
        "node_stats = pd.DataFrame.from_dict(dict(degree_centrality), orient='index')\n",
        "node_stats.columns = ['degree_centrality']\n",
        "node_stats['betweenness_centrality'] = betweenness_centrality.values()\n",
        "\n",
        "node_stats['average_centrality'] = 0.5 * (node_stats['degree_centrality'] + node_stats['betweenness_centrality'])\n",
        "\n",
        "node_stats['distance_degree_criteria'] = distance_degree_criteria.values()\n",
        "node_stats['distance_correlation_criteria'] = distance_correlation_criteria.values()\n",
        "node_stats['distance_distance_criteria'] = distance_distance_criteria.values()\n",
        "node_stats['average_distance'] = (node_stats['distance_degree_criteria'] + node_stats['distance_correlation_criteria'] + node_stats['distance_distance_criteria']) / 3"
      ]
    },
    {
      "cell_type": "code",
      "execution_count": null,
      "id": "dc73e565",
      "metadata": {
        "id": "dc73e565"
      },
      "outputs": [],
      "source": [
        "node_stats.head()"
      ]
    },
    {
      "cell_type": "markdown",
      "id": "fb40139d",
      "metadata": {
        "id": "fb40139d"
      },
      "source": [
        "We use the parameters defined above to select the portfolios."
      ]
    },
    {
      "cell_type": "markdown",
      "id": "ea840426",
      "metadata": {
        "id": "ea840426"
      },
      "source": [
        "**The nodes with the largest 10% of degree or betweenness centrality are chosen to be in the central portfolio.**"
      ]
    },
    {
      "cell_type": "markdown",
      "id": "78f4c77d",
      "metadata": {
        "id": "78f4c77d"
      },
      "source": [
        "**The nodes whose degree equals to 1 or betweenness centrality equals to 0 are chosen to be in the peripheral portfolio.**"
      ]
    },
    {
      "cell_type": "markdown",
      "id": "b62a4e62",
      "metadata": {
        "id": "b62a4e62"
      },
      "source": [
        "Similarly, we define the node's ranking in the top 10% of distance as the stocks of the peripheral portfolios, and the bottom 10% as the stocks of the central portfolios."
      ]
    },
    {
      "cell_type": "markdown",
      "id": "69d0f67e",
      "metadata": {
        "id": "69d0f67e"
      },
      "source": [
        "The central portfolios and peripheral portfolios represent two opposite sides of correlation and agglomeration. Generally speaking, central stocks play a vital role in the market and impose a strong influence on other stocks. On the other hand, the correlations between peripheral stocks are weak and contain much more noise than those of the central stocks. "
      ]
    },
    {
      "cell_type": "code",
      "execution_count": null,
      "id": "6fc9f6fa",
      "metadata": {
        "colab": {
          "base_uri": "https://localhost:8080/",
          "height": 183
        },
        "id": "6fc9f6fa",
        "outputId": "bf72861b-3565-4575-cdd4-58fe9e5244ea"
      },
      "outputs": [
        {
          "output_type": "error",
          "ename": "NameError",
          "evalue": "ignored",
          "traceback": [
            "\u001b[0;31m---------------------------------------------------------------------------\u001b[0m",
            "\u001b[0;31mNameError\u001b[0m                                 Traceback (most recent call last)",
            "\u001b[0;32m<ipython-input-11-4c0775daa37e>\u001b[0m in \u001b[0;36m<cell line: 1>\u001b[0;34m()\u001b[0m\n\u001b[0;32m----> 1\u001b[0;31m \u001b[0mcentral_stocks\u001b[0m \u001b[0;34m=\u001b[0m \u001b[0mnode_stats\u001b[0m\u001b[0;34m.\u001b[0m\u001b[0msort_values\u001b[0m\u001b[0;34m(\u001b[0m\u001b[0;34m'average_centrality'\u001b[0m\u001b[0;34m,\u001b[0m \u001b[0mascending\u001b[0m\u001b[0;34m=\u001b[0m\u001b[0;32mFalse\u001b[0m\u001b[0;34m)\u001b[0m\u001b[0;34m.\u001b[0m\u001b[0mhead\u001b[0m\u001b[0;34m(\u001b[0m\u001b[0;36m15\u001b[0m\u001b[0;34m)\u001b[0m\u001b[0;34m\u001b[0m\u001b[0;34m\u001b[0m\u001b[0m\n\u001b[0m\u001b[1;32m      2\u001b[0m \u001b[0mcentral_portfolio\u001b[0m \u001b[0;34m=\u001b[0m \u001b[0;34m[\u001b[0m\u001b[0mstock\u001b[0m \u001b[0;32mfor\u001b[0m \u001b[0mstock\u001b[0m \u001b[0;32min\u001b[0m \u001b[0mcentral_stocks\u001b[0m\u001b[0;34m.\u001b[0m\u001b[0mindex\u001b[0m\u001b[0;34m.\u001b[0m\u001b[0mvalues\u001b[0m\u001b[0;34m]\u001b[0m\u001b[0;34m\u001b[0m\u001b[0;34m\u001b[0m\u001b[0m\n",
            "\u001b[0;31mNameError\u001b[0m: name 'node_stats' is not defined"
          ]
        }
      ],
      "source": [
        "central_stocks = node_stats.sort_values('average_centrality', ascending=False).head(15)\n",
        "central_portfolio = [stock for stock in central_stocks.index.values]"
      ]
    },
    {
      "cell_type": "code",
      "execution_count": null,
      "id": "229bcc34",
      "metadata": {
        "colab": {
          "base_uri": "https://localhost:8080/",
          "height": 183
        },
        "id": "229bcc34",
        "outputId": "b5bf6cc5-c098-4a1e-e8f5-45f0e35ce3dd"
      },
      "outputs": [
        {
          "output_type": "error",
          "ename": "NameError",
          "evalue": "ignored",
          "traceback": [
            "\u001b[0;31m---------------------------------------------------------------------------\u001b[0m",
            "\u001b[0;31mNameError\u001b[0m                                 Traceback (most recent call last)",
            "\u001b[0;32m<ipython-input-12-4fcef3f901aa>\u001b[0m in \u001b[0;36m<cell line: 1>\u001b[0;34m()\u001b[0m\n\u001b[0;32m----> 1\u001b[0;31m \u001b[0mperipheral_stocks\u001b[0m \u001b[0;34m=\u001b[0m \u001b[0mnode_stats\u001b[0m\u001b[0;34m.\u001b[0m\u001b[0msort_values\u001b[0m\u001b[0;34m(\u001b[0m\u001b[0;34m'average_distance'\u001b[0m\u001b[0;34m,\u001b[0m \u001b[0mascending\u001b[0m\u001b[0;34m=\u001b[0m\u001b[0;32mFalse\u001b[0m\u001b[0;34m)\u001b[0m\u001b[0;34m.\u001b[0m\u001b[0mhead\u001b[0m\u001b[0;34m(\u001b[0m\u001b[0;36m15\u001b[0m\u001b[0;34m)\u001b[0m\u001b[0;34m\u001b[0m\u001b[0;34m\u001b[0m\u001b[0m\n\u001b[0m\u001b[1;32m      2\u001b[0m \u001b[0mperipheral_portfolio\u001b[0m \u001b[0;34m=\u001b[0m \u001b[0;34m[\u001b[0m\u001b[0mstock\u001b[0m \u001b[0;32mfor\u001b[0m \u001b[0mstock\u001b[0m \u001b[0;32min\u001b[0m \u001b[0mperipheral_stocks\u001b[0m\u001b[0;34m.\u001b[0m\u001b[0mindex\u001b[0m\u001b[0;34m.\u001b[0m\u001b[0mvalues\u001b[0m\u001b[0;34m]\u001b[0m\u001b[0;34m\u001b[0m\u001b[0;34m\u001b[0m\u001b[0m\n",
            "\u001b[0;31mNameError\u001b[0m: name 'node_stats' is not defined"
          ]
        }
      ],
      "source": [
        "peripheral_stocks = node_stats.sort_values('average_distance', ascending=False).head(15)\n",
        "peripheral_portfolio = [stock for stock in peripheral_stocks.index.values]"
      ]
    },
    {
      "cell_type": "code",
      "execution_count": null,
      "id": "ddfd544a",
      "metadata": {
        "colab": {
          "base_uri": "https://localhost:8080/",
          "height": 165
        },
        "id": "ddfd544a",
        "outputId": "b417f3b8-82c9-4a3d-c261-a622633b5aaa"
      },
      "outputs": [
        {
          "output_type": "error",
          "ename": "NameError",
          "evalue": "ignored",
          "traceback": [
            "\u001b[0;31m---------------------------------------------------------------------------\u001b[0m",
            "\u001b[0;31mNameError\u001b[0m                                 Traceback (most recent call last)",
            "\u001b[0;32m<ipython-input-13-d44cb783bbe7>\u001b[0m in \u001b[0;36m<cell line: 1>\u001b[0;34m()\u001b[0m\n\u001b[0;32m----> 1\u001b[0;31m \u001b[0mcentral_stocks\u001b[0m\u001b[0;34m\u001b[0m\u001b[0;34m\u001b[0m\u001b[0m\n\u001b[0m",
            "\u001b[0;31mNameError\u001b[0m: name 'central_stocks' is not defined"
          ]
        }
      ],
      "source": [
        "central_stocks"
      ]
    },
    {
      "cell_type": "code",
      "execution_count": null,
      "id": "c9cf4cda",
      "metadata": {
        "id": "c9cf4cda"
      },
      "outputs": [],
      "source": [
        "peripheral_stocks"
      ]
    },
    {
      "cell_type": "markdown",
      "id": "01a31375",
      "metadata": {
        "id": "01a31375"
      },
      "source": [
        "### Selecting the top 15 stocks for both Central Stocks and Peripheral Stocks"
      ]
    },
    {
      "cell_type": "code",
      "execution_count": null,
      "id": "d5ebd2c7",
      "metadata": {
        "colab": {
          "base_uri": "https://localhost:8080/",
          "height": 235
        },
        "id": "d5ebd2c7",
        "outputId": "ca854e3d-6c10-4e3a-a378-9a933eaa0e2a"
      },
      "outputs": [
        {
          "output_type": "error",
          "ename": "NameError",
          "evalue": "ignored",
          "traceback": [
            "\u001b[0;31m---------------------------------------------------------------------------\u001b[0m",
            "\u001b[0;31mNameError\u001b[0m                                 Traceback (most recent call last)",
            "\u001b[0;32m<ipython-input-14-858914f8dae7>\u001b[0m in \u001b[0;36m<cell line: 3>\u001b[0;34m()\u001b[0m\n\u001b[1;32m      1\u001b[0m \u001b[0mcolor\u001b[0m \u001b[0;34m=\u001b[0m \u001b[0;34m[\u001b[0m\u001b[0;34m]\u001b[0m\u001b[0;34m\u001b[0m\u001b[0;34m\u001b[0m\u001b[0m\n\u001b[1;32m      2\u001b[0m \u001b[0;34m\u001b[0m\u001b[0m\n\u001b[0;32m----> 3\u001b[0;31m \u001b[0;32mfor\u001b[0m \u001b[0mnode\u001b[0m \u001b[0;32min\u001b[0m \u001b[0mdistance_2011_till_2020_graph_filtered\u001b[0m\u001b[0;34m:\u001b[0m\u001b[0;34m\u001b[0m\u001b[0;34m\u001b[0m\u001b[0m\n\u001b[0m\u001b[1;32m      4\u001b[0m     \u001b[0;32mif\u001b[0m \u001b[0mnode\u001b[0m \u001b[0;32min\u001b[0m \u001b[0mcentral_portfolio\u001b[0m\u001b[0;34m:\u001b[0m\u001b[0;34m\u001b[0m\u001b[0;34m\u001b[0m\u001b[0m\n\u001b[1;32m      5\u001b[0m         \u001b[0mcolor\u001b[0m\u001b[0;34m.\u001b[0m\u001b[0mappend\u001b[0m\u001b[0;34m(\u001b[0m\u001b[0;34m'red'\u001b[0m\u001b[0;34m)\u001b[0m\u001b[0;34m\u001b[0m\u001b[0;34m\u001b[0m\u001b[0m\n",
            "\u001b[0;31mNameError\u001b[0m: name 'distance_2011_till_2020_graph_filtered' is not defined"
          ]
        }
      ],
      "source": [
        "color = []\n",
        "\n",
        "for node in distance_2011_till_2020_graph_filtered:\n",
        "    if node in central_portfolio:\n",
        "        color.append('red')\n",
        "        \n",
        "    elif node in peripheral_portfolio:\n",
        "        color.append('green')\n",
        "        \n",
        "    else:\n",
        "        color.append('blue')"
      ]
    },
    {
      "cell_type": "code",
      "execution_count": null,
      "id": "0b81e5ef",
      "metadata": {
        "colab": {
          "base_uri": "https://localhost:8080/",
          "height": 200
        },
        "id": "0b81e5ef",
        "outputId": "acbc5ed6-bd09-44bd-e599-c36cb10efcd8"
      },
      "outputs": [
        {
          "output_type": "error",
          "ename": "NameError",
          "evalue": "ignored",
          "traceback": [
            "\u001b[0;31m---------------------------------------------------------------------------\u001b[0m",
            "\u001b[0;31mNameError\u001b[0m                                 Traceback (most recent call last)",
            "\u001b[0;32m<ipython-input-15-13a80e7900bf>\u001b[0m in \u001b[0;36m<cell line: 2>\u001b[0;34m()\u001b[0m\n\u001b[1;32m      1\u001b[0m \u001b[0mfigure\u001b[0m \u001b[0;34m=\u001b[0m \u001b[0mplt\u001b[0m\u001b[0;34m.\u001b[0m\u001b[0mfigure\u001b[0m\u001b[0;34m(\u001b[0m\u001b[0mfigsize\u001b[0m\u001b[0;34m=\u001b[0m\u001b[0;34m(\u001b[0m\u001b[0;36m24\u001b[0m\u001b[0;34m,\u001b[0m \u001b[0;36m8\u001b[0m\u001b[0;34m)\u001b[0m\u001b[0;34m)\u001b[0m\u001b[0;34m\u001b[0m\u001b[0;34m\u001b[0m\u001b[0m\n\u001b[0;32m----> 2\u001b[0;31m \u001b[0mnx\u001b[0m\u001b[0;34m.\u001b[0m\u001b[0mdraw_kamada_kawai\u001b[0m\u001b[0;34m(\u001b[0m\u001b[0mdistance_2011_till_2020_graph_filtered\u001b[0m\u001b[0;34m,\u001b[0m \u001b[0mwith_labels\u001b[0m\u001b[0;34m=\u001b[0m\u001b[0;32mFalse\u001b[0m\u001b[0;34m,\u001b[0m \u001b[0mnode_color\u001b[0m\u001b[0;34m=\u001b[0m\u001b[0mcolor\u001b[0m\u001b[0;34m)\u001b[0m\u001b[0;34m\u001b[0m\u001b[0;34m\u001b[0m\u001b[0m\n\u001b[0m",
            "\u001b[0;31mNameError\u001b[0m: name 'distance_2011_till_2020_graph_filtered' is not defined"
          ]
        },
        {
          "output_type": "display_data",
          "data": {
            "text/plain": [
              "<Figure size 2400x800 with 0 Axes>"
            ]
          },
          "metadata": {}
        }
      ],
      "source": [
        "figure = plt.figure(figsize=(24, 8))\n",
        "nx.draw_kamada_kawai(distance_2011_till_2020_graph_filtered, with_labels=False, node_color=color)"
      ]
    },
    {
      "cell_type": "markdown",
      "id": "e03b845d",
      "metadata": {
        "id": "e03b845d"
      },
      "source": [
        "Here, **the red stocks are the central portfolio stocks, and the green ones are the peripheral portfolio stocks.**"
      ]
    },
    {
      "cell_type": "markdown",
      "id": "fe965d27",
      "metadata": {
        "id": "fe965d27"
      },
      "source": [
        "# Performance Evalution"
      ]
    },
    {
      "cell_type": "markdown",
      "id": "ccd89954",
      "metadata": {
        "id": "ccd89954"
      },
      "source": [
        "Here we evaluate the performance of the stocks by comparing the performance of the Central Portfolio, Peripheral and S&P 500 Stocks in 2021, and **finding out which portfolio performs the best.**"
      ]
    },
    {
      "cell_type": "code",
      "execution_count": null,
      "id": "323411d9",
      "metadata": {
        "id": "323411d9"
      },
      "outputs": [],
      "source": [
        "# collecting data for all S&P 500 components for the year 2021\n",
        "# %time price_data_2021 = web.DataReader(tickers, 'yahoo', start='2021-01-01', end='2021-12-31')"
      ]
    },
    {
      "cell_type": "code",
      "execution_count": null,
      "id": "267fbb7d",
      "metadata": {
        "colab": {
          "base_uri": "https://localhost:8080/",
          "height": 363
        },
        "id": "267fbb7d",
        "outputId": "16e6ebae-d46e-4905-d1ba-c0027bf9bff8"
      },
      "outputs": [
        {
          "output_type": "error",
          "ename": "FileNotFoundError",
          "evalue": "ignored",
          "traceback": [
            "\u001b[0;31m---------------------------------------------------------------------------\u001b[0m",
            "\u001b[0;31mFileNotFoundError\u001b[0m                         Traceback (most recent call last)",
            "\u001b[0;32m<ipython-input-17-fcd3bf1e449b>\u001b[0m in \u001b[0;36m<cell line: 2>\u001b[0;34m()\u001b[0m\n\u001b[1;32m      1\u001b[0m \u001b[0;31m# Reading data for 2021 S&P 500 stocks:\u001b[0m\u001b[0;34m\u001b[0m\u001b[0;34m\u001b[0m\u001b[0m\n\u001b[0;32m----> 2\u001b[0;31m \u001b[0mprice_data_2021\u001b[0m \u001b[0;34m=\u001b[0m \u001b[0mpd\u001b[0m\u001b[0;34m.\u001b[0m\u001b[0mread_csv\u001b[0m\u001b[0;34m(\u001b[0m\u001b[0;34m'snp500_price_data_2021.csv'\u001b[0m\u001b[0;34m,\u001b[0m \u001b[0mindex_col\u001b[0m\u001b[0;34m=\u001b[0m\u001b[0;34m[\u001b[0m\u001b[0;36m0\u001b[0m\u001b[0;34m]\u001b[0m\u001b[0;34m)\u001b[0m\u001b[0;34m\u001b[0m\u001b[0;34m\u001b[0m\u001b[0m\n\u001b[0m\u001b[1;32m      3\u001b[0m \u001b[0;31m#price_data_2021 = price_data_2021['Adj Close']\u001b[0m\u001b[0;34m\u001b[0m\u001b[0;34m\u001b[0m\u001b[0m\n\u001b[1;32m      4\u001b[0m \u001b[0;31m#price_data_2021.to_csv('snp500_price_data_2021.csv')\u001b[0m\u001b[0;34m\u001b[0m\u001b[0;34m\u001b[0m\u001b[0m\n",
            "\u001b[0;32m/usr/local/lib/python3.9/dist-packages/pandas/util/_decorators.py\u001b[0m in \u001b[0;36mwrapper\u001b[0;34m(*args, **kwargs)\u001b[0m\n\u001b[1;32m    209\u001b[0m                 \u001b[0;32melse\u001b[0m\u001b[0;34m:\u001b[0m\u001b[0;34m\u001b[0m\u001b[0;34m\u001b[0m\u001b[0m\n\u001b[1;32m    210\u001b[0m                     \u001b[0mkwargs\u001b[0m\u001b[0;34m[\u001b[0m\u001b[0mnew_arg_name\u001b[0m\u001b[0;34m]\u001b[0m \u001b[0;34m=\u001b[0m \u001b[0mnew_arg_value\u001b[0m\u001b[0;34m\u001b[0m\u001b[0;34m\u001b[0m\u001b[0m\n\u001b[0;32m--> 211\u001b[0;31m             \u001b[0;32mreturn\u001b[0m \u001b[0mfunc\u001b[0m\u001b[0;34m(\u001b[0m\u001b[0;34m*\u001b[0m\u001b[0margs\u001b[0m\u001b[0;34m,\u001b[0m \u001b[0;34m**\u001b[0m\u001b[0mkwargs\u001b[0m\u001b[0;34m)\u001b[0m\u001b[0;34m\u001b[0m\u001b[0;34m\u001b[0m\u001b[0m\n\u001b[0m\u001b[1;32m    212\u001b[0m \u001b[0;34m\u001b[0m\u001b[0m\n\u001b[1;32m    213\u001b[0m         \u001b[0;32mreturn\u001b[0m \u001b[0mcast\u001b[0m\u001b[0;34m(\u001b[0m\u001b[0mF\u001b[0m\u001b[0;34m,\u001b[0m \u001b[0mwrapper\u001b[0m\u001b[0;34m)\u001b[0m\u001b[0;34m\u001b[0m\u001b[0;34m\u001b[0m\u001b[0m\n",
            "\u001b[0;32m/usr/local/lib/python3.9/dist-packages/pandas/util/_decorators.py\u001b[0m in \u001b[0;36mwrapper\u001b[0;34m(*args, **kwargs)\u001b[0m\n\u001b[1;32m    329\u001b[0m                     \u001b[0mstacklevel\u001b[0m\u001b[0;34m=\u001b[0m\u001b[0mfind_stack_level\u001b[0m\u001b[0;34m(\u001b[0m\u001b[0;34m)\u001b[0m\u001b[0;34m,\u001b[0m\u001b[0;34m\u001b[0m\u001b[0;34m\u001b[0m\u001b[0m\n\u001b[1;32m    330\u001b[0m                 )\n\u001b[0;32m--> 331\u001b[0;31m             \u001b[0;32mreturn\u001b[0m \u001b[0mfunc\u001b[0m\u001b[0;34m(\u001b[0m\u001b[0;34m*\u001b[0m\u001b[0margs\u001b[0m\u001b[0;34m,\u001b[0m \u001b[0;34m**\u001b[0m\u001b[0mkwargs\u001b[0m\u001b[0;34m)\u001b[0m\u001b[0;34m\u001b[0m\u001b[0;34m\u001b[0m\u001b[0m\n\u001b[0m\u001b[1;32m    332\u001b[0m \u001b[0;34m\u001b[0m\u001b[0m\n\u001b[1;32m    333\u001b[0m         \u001b[0;31m# error: \"Callable[[VarArg(Any), KwArg(Any)], Any]\" has no\u001b[0m\u001b[0;34m\u001b[0m\u001b[0;34m\u001b[0m\u001b[0m\n",
            "\u001b[0;32m/usr/local/lib/python3.9/dist-packages/pandas/io/parsers/readers.py\u001b[0m in \u001b[0;36mread_csv\u001b[0;34m(filepath_or_buffer, sep, delimiter, header, names, index_col, usecols, squeeze, prefix, mangle_dupe_cols, dtype, engine, converters, true_values, false_values, skipinitialspace, skiprows, skipfooter, nrows, na_values, keep_default_na, na_filter, verbose, skip_blank_lines, parse_dates, infer_datetime_format, keep_date_col, date_parser, dayfirst, cache_dates, iterator, chunksize, compression, thousands, decimal, lineterminator, quotechar, quoting, doublequote, escapechar, comment, encoding, encoding_errors, dialect, error_bad_lines, warn_bad_lines, on_bad_lines, delim_whitespace, low_memory, memory_map, float_precision, storage_options)\u001b[0m\n\u001b[1;32m    948\u001b[0m     \u001b[0mkwds\u001b[0m\u001b[0;34m.\u001b[0m\u001b[0mupdate\u001b[0m\u001b[0;34m(\u001b[0m\u001b[0mkwds_defaults\u001b[0m\u001b[0;34m)\u001b[0m\u001b[0;34m\u001b[0m\u001b[0;34m\u001b[0m\u001b[0m\n\u001b[1;32m    949\u001b[0m \u001b[0;34m\u001b[0m\u001b[0m\n\u001b[0;32m--> 950\u001b[0;31m     \u001b[0;32mreturn\u001b[0m \u001b[0m_read\u001b[0m\u001b[0;34m(\u001b[0m\u001b[0mfilepath_or_buffer\u001b[0m\u001b[0;34m,\u001b[0m \u001b[0mkwds\u001b[0m\u001b[0;34m)\u001b[0m\u001b[0;34m\u001b[0m\u001b[0;34m\u001b[0m\u001b[0m\n\u001b[0m\u001b[1;32m    951\u001b[0m \u001b[0;34m\u001b[0m\u001b[0m\n\u001b[1;32m    952\u001b[0m \u001b[0;34m\u001b[0m\u001b[0m\n",
            "\u001b[0;32m/usr/local/lib/python3.9/dist-packages/pandas/io/parsers/readers.py\u001b[0m in \u001b[0;36m_read\u001b[0;34m(filepath_or_buffer, kwds)\u001b[0m\n\u001b[1;32m    603\u001b[0m \u001b[0;34m\u001b[0m\u001b[0m\n\u001b[1;32m    604\u001b[0m     \u001b[0;31m# Create the parser.\u001b[0m\u001b[0;34m\u001b[0m\u001b[0;34m\u001b[0m\u001b[0m\n\u001b[0;32m--> 605\u001b[0;31m     \u001b[0mparser\u001b[0m \u001b[0;34m=\u001b[0m \u001b[0mTextFileReader\u001b[0m\u001b[0;34m(\u001b[0m\u001b[0mfilepath_or_buffer\u001b[0m\u001b[0;34m,\u001b[0m \u001b[0;34m**\u001b[0m\u001b[0mkwds\u001b[0m\u001b[0;34m)\u001b[0m\u001b[0;34m\u001b[0m\u001b[0;34m\u001b[0m\u001b[0m\n\u001b[0m\u001b[1;32m    606\u001b[0m \u001b[0;34m\u001b[0m\u001b[0m\n\u001b[1;32m    607\u001b[0m     \u001b[0;32mif\u001b[0m \u001b[0mchunksize\u001b[0m \u001b[0;32mor\u001b[0m \u001b[0miterator\u001b[0m\u001b[0;34m:\u001b[0m\u001b[0;34m\u001b[0m\u001b[0;34m\u001b[0m\u001b[0m\n",
            "\u001b[0;32m/usr/local/lib/python3.9/dist-packages/pandas/io/parsers/readers.py\u001b[0m in \u001b[0;36m__init__\u001b[0;34m(self, f, engine, **kwds)\u001b[0m\n\u001b[1;32m   1440\u001b[0m \u001b[0;34m\u001b[0m\u001b[0m\n\u001b[1;32m   1441\u001b[0m         \u001b[0mself\u001b[0m\u001b[0;34m.\u001b[0m\u001b[0mhandles\u001b[0m\u001b[0;34m:\u001b[0m \u001b[0mIOHandles\u001b[0m \u001b[0;34m|\u001b[0m \u001b[0;32mNone\u001b[0m \u001b[0;34m=\u001b[0m \u001b[0;32mNone\u001b[0m\u001b[0;34m\u001b[0m\u001b[0;34m\u001b[0m\u001b[0m\n\u001b[0;32m-> 1442\u001b[0;31m         \u001b[0mself\u001b[0m\u001b[0;34m.\u001b[0m\u001b[0m_engine\u001b[0m \u001b[0;34m=\u001b[0m \u001b[0mself\u001b[0m\u001b[0;34m.\u001b[0m\u001b[0m_make_engine\u001b[0m\u001b[0;34m(\u001b[0m\u001b[0mf\u001b[0m\u001b[0;34m,\u001b[0m \u001b[0mself\u001b[0m\u001b[0;34m.\u001b[0m\u001b[0mengine\u001b[0m\u001b[0;34m)\u001b[0m\u001b[0;34m\u001b[0m\u001b[0;34m\u001b[0m\u001b[0m\n\u001b[0m\u001b[1;32m   1443\u001b[0m \u001b[0;34m\u001b[0m\u001b[0m\n\u001b[1;32m   1444\u001b[0m     \u001b[0;32mdef\u001b[0m \u001b[0mclose\u001b[0m\u001b[0;34m(\u001b[0m\u001b[0mself\u001b[0m\u001b[0;34m)\u001b[0m \u001b[0;34m->\u001b[0m \u001b[0;32mNone\u001b[0m\u001b[0;34m:\u001b[0m\u001b[0;34m\u001b[0m\u001b[0;34m\u001b[0m\u001b[0m\n",
            "\u001b[0;32m/usr/local/lib/python3.9/dist-packages/pandas/io/parsers/readers.py\u001b[0m in \u001b[0;36m_make_engine\u001b[0;34m(self, f, engine)\u001b[0m\n\u001b[1;32m   1733\u001b[0m                 \u001b[0;32mif\u001b[0m \u001b[0;34m\"b\"\u001b[0m \u001b[0;32mnot\u001b[0m \u001b[0;32min\u001b[0m \u001b[0mmode\u001b[0m\u001b[0;34m:\u001b[0m\u001b[0;34m\u001b[0m\u001b[0;34m\u001b[0m\u001b[0m\n\u001b[1;32m   1734\u001b[0m                     \u001b[0mmode\u001b[0m \u001b[0;34m+=\u001b[0m \u001b[0;34m\"b\"\u001b[0m\u001b[0;34m\u001b[0m\u001b[0;34m\u001b[0m\u001b[0m\n\u001b[0;32m-> 1735\u001b[0;31m             self.handles = get_handle(\n\u001b[0m\u001b[1;32m   1736\u001b[0m                 \u001b[0mf\u001b[0m\u001b[0;34m,\u001b[0m\u001b[0;34m\u001b[0m\u001b[0;34m\u001b[0m\u001b[0m\n\u001b[1;32m   1737\u001b[0m                 \u001b[0mmode\u001b[0m\u001b[0;34m,\u001b[0m\u001b[0;34m\u001b[0m\u001b[0;34m\u001b[0m\u001b[0m\n",
            "\u001b[0;32m/usr/local/lib/python3.9/dist-packages/pandas/io/common.py\u001b[0m in \u001b[0;36mget_handle\u001b[0;34m(path_or_buf, mode, encoding, compression, memory_map, is_text, errors, storage_options)\u001b[0m\n\u001b[1;32m    854\u001b[0m         \u001b[0;32mif\u001b[0m \u001b[0mioargs\u001b[0m\u001b[0;34m.\u001b[0m\u001b[0mencoding\u001b[0m \u001b[0;32mand\u001b[0m \u001b[0;34m\"b\"\u001b[0m \u001b[0;32mnot\u001b[0m \u001b[0;32min\u001b[0m \u001b[0mioargs\u001b[0m\u001b[0;34m.\u001b[0m\u001b[0mmode\u001b[0m\u001b[0;34m:\u001b[0m\u001b[0;34m\u001b[0m\u001b[0;34m\u001b[0m\u001b[0m\n\u001b[1;32m    855\u001b[0m             \u001b[0;31m# Encoding\u001b[0m\u001b[0;34m\u001b[0m\u001b[0;34m\u001b[0m\u001b[0m\n\u001b[0;32m--> 856\u001b[0;31m             handle = open(\n\u001b[0m\u001b[1;32m    857\u001b[0m                 \u001b[0mhandle\u001b[0m\u001b[0;34m,\u001b[0m\u001b[0;34m\u001b[0m\u001b[0;34m\u001b[0m\u001b[0m\n\u001b[1;32m    858\u001b[0m                 \u001b[0mioargs\u001b[0m\u001b[0;34m.\u001b[0m\u001b[0mmode\u001b[0m\u001b[0;34m,\u001b[0m\u001b[0;34m\u001b[0m\u001b[0;34m\u001b[0m\u001b[0m\n",
            "\u001b[0;31mFileNotFoundError\u001b[0m: [Errno 2] No such file or directory: 'snp500_price_data_2021.csv'"
          ]
        }
      ],
      "source": [
        "# Reading data for 2021 S&P 500 stocks:\n",
        "price_data_2021 = pd.read_csv('snp500_price_data_2021.csv', index_col=[0])\n",
        "#price_data_2021 = price_data_2021['Adj Close']\n",
        "#price_data_2021.to_csv('snp500_price_data_2021.csv')"
      ]
    },
    {
      "cell_type": "code",
      "execution_count": null,
      "id": "d6089609",
      "metadata": {
        "id": "d6089609"
      },
      "outputs": [],
      "source": [
        "price_data_2021.head()"
      ]
    },
    {
      "cell_type": "code",
      "execution_count": null,
      "id": "ae2c5cf2",
      "metadata": {
        "id": "ae2c5cf2"
      },
      "outputs": [],
      "source": [
        "snp_500_2021 = web.DataReader(['sp500'], 'fred', start='2021-01-01', end='2021-12-31')"
      ]
    },
    {
      "cell_type": "code",
      "execution_count": null,
      "id": "a1987212",
      "metadata": {
        "id": "a1987212"
      },
      "outputs": [],
      "source": [
        "price_data_2021.head()"
      ]
    },
    {
      "cell_type": "code",
      "execution_count": null,
      "id": "93d7910f",
      "metadata": {
        "colab": {
          "base_uri": "https://localhost:8080/",
          "height": 200
        },
        "id": "93d7910f",
        "outputId": "31e66f99-1941-45df-d6db-cf477f759417"
      },
      "outputs": [
        {
          "output_type": "error",
          "ename": "NameError",
          "evalue": "ignored",
          "traceback": [
            "\u001b[0;31m---------------------------------------------------------------------------\u001b[0m",
            "\u001b[0;31mNameError\u001b[0m                                 Traceback (most recent call last)",
            "\u001b[0;32m<ipython-input-18-d144b7b0363a>\u001b[0m in \u001b[0;36m<cell line: 2>\u001b[0;34m()\u001b[0m\n\u001b[1;32m      1\u001b[0m \u001b[0;31m# Removing NA values:\u001b[0m\u001b[0;34m\u001b[0m\u001b[0;34m\u001b[0m\u001b[0m\n\u001b[0;32m----> 2\u001b[0;31m \u001b[0mprice_data_2021\u001b[0m \u001b[0;34m=\u001b[0m \u001b[0mprice_data_2021\u001b[0m\u001b[0;34m.\u001b[0m\u001b[0mdropna\u001b[0m\u001b[0;34m(\u001b[0m\u001b[0maxis\u001b[0m\u001b[0;34m=\u001b[0m\u001b[0;36m1\u001b[0m\u001b[0;34m)\u001b[0m\u001b[0;34m\u001b[0m\u001b[0;34m\u001b[0m\u001b[0m\n\u001b[0m\u001b[1;32m      3\u001b[0m \u001b[0msnp_500_2021\u001b[0m \u001b[0;34m=\u001b[0m \u001b[0msnp_500_2021\u001b[0m\u001b[0;34m.\u001b[0m\u001b[0mdropna\u001b[0m\u001b[0;34m(\u001b[0m\u001b[0;34m)\u001b[0m\u001b[0;34m\u001b[0m\u001b[0;34m\u001b[0m\u001b[0m\n",
            "\u001b[0;31mNameError\u001b[0m: name 'price_data_2021' is not defined"
          ]
        }
      ],
      "source": [
        "# Removing NA values:\n",
        "price_data_2021 = price_data_2021.dropna(axis=1)\n",
        "snp_500_2021 = snp_500_2021.dropna()"
      ]
    },
    {
      "cell_type": "code",
      "execution_count": null,
      "id": "b378e8c5",
      "metadata": {
        "colab": {
          "base_uri": "https://localhost:8080/",
          "height": 165
        },
        "id": "b378e8c5",
        "outputId": "0fca4c56-5e87-44a1-baa3-16f7bf7d6312"
      },
      "outputs": [
        {
          "output_type": "error",
          "ename": "NameError",
          "evalue": "ignored",
          "traceback": [
            "\u001b[0;31m---------------------------------------------------------------------------\u001b[0m",
            "\u001b[0;31mNameError\u001b[0m                                 Traceback (most recent call last)",
            "\u001b[0;32m<ipython-input-19-9fe83903a181>\u001b[0m in \u001b[0;36m<cell line: 1>\u001b[0;34m()\u001b[0m\n\u001b[0;32m----> 1\u001b[0;31m \u001b[0mprice_data_2021\u001b[0m\u001b[0;34m.\u001b[0m\u001b[0mhead\u001b[0m\u001b[0;34m(\u001b[0m\u001b[0;34m)\u001b[0m\u001b[0;34m\u001b[0m\u001b[0;34m\u001b[0m\u001b[0m\n\u001b[0m",
            "\u001b[0;31mNameError\u001b[0m: name 'price_data_2021' is not defined"
          ]
        }
      ],
      "source": [
        "price_data_2021.head()"
      ]
    },
    {
      "cell_type": "code",
      "execution_count": null,
      "id": "74f66d14",
      "metadata": {
        "colab": {
          "base_uri": "https://localhost:8080/",
          "height": 165
        },
        "id": "74f66d14",
        "outputId": "eb77f92f-a759-4132-ad20-32a5d84e9192"
      },
      "outputs": [
        {
          "output_type": "error",
          "ename": "NameError",
          "evalue": "ignored",
          "traceback": [
            "\u001b[0;31m---------------------------------------------------------------------------\u001b[0m",
            "\u001b[0;31mNameError\u001b[0m                                 Traceback (most recent call last)",
            "\u001b[0;32m<ipython-input-20-3ee1c0bec109>\u001b[0m in \u001b[0;36m<cell line: 1>\u001b[0;34m()\u001b[0m\n\u001b[0;32m----> 1\u001b[0;31m \u001b[0mprice_data_2021\u001b[0m \u001b[0;34m=\u001b[0m \u001b[0mprice_data_2021\u001b[0m\u001b[0;34m[\u001b[0m\u001b[0;34m'2021-01-04'\u001b[0m\u001b[0;34m:\u001b[0m\u001b[0;34m]\u001b[0m\u001b[0;34m\u001b[0m\u001b[0;34m\u001b[0m\u001b[0m\n\u001b[0m",
            "\u001b[0;31mNameError\u001b[0m: name 'price_data_2021' is not defined"
          ]
        }
      ],
      "source": [
        "price_data_2021 = price_data_2021['2021-01-04':]"
      ]
    },
    {
      "cell_type": "code",
      "execution_count": null,
      "id": "8531c936",
      "metadata": {
        "colab": {
          "base_uri": "https://localhost:8080/",
          "height": 235
        },
        "id": "8531c936",
        "outputId": "468a4a36-d241-4b6f-9191-c9eef3e8af29"
      },
      "outputs": [
        {
          "output_type": "error",
          "ename": "NameError",
          "evalue": "ignored",
          "traceback": [
            "\u001b[0;31m---------------------------------------------------------------------------\u001b[0m",
            "\u001b[0;31mNameError\u001b[0m                                 Traceback (most recent call last)",
            "\u001b[0;32m<ipython-input-21-a22fbc43c0f6>\u001b[0m in \u001b[0;36m<cell line: 4>\u001b[0;34m()\u001b[0m\n\u001b[1;32m      2\u001b[0m \u001b[0;34m\u001b[0m\u001b[0m\n\u001b[1;32m      3\u001b[0m \u001b[0mcentral_portfolio_value\u001b[0m \u001b[0;34m=\u001b[0m \u001b[0mpd\u001b[0m\u001b[0;34m.\u001b[0m\u001b[0mDataFrame\u001b[0m\u001b[0;34m(\u001b[0m\u001b[0;34m)\u001b[0m\u001b[0;34m\u001b[0m\u001b[0;34m\u001b[0m\u001b[0m\n\u001b[0;32m----> 4\u001b[0;31m \u001b[0;32mfor\u001b[0m \u001b[0mstock\u001b[0m \u001b[0;32min\u001b[0m \u001b[0mcentral_portfolio\u001b[0m\u001b[0;34m:\u001b[0m\u001b[0;34m\u001b[0m\u001b[0;34m\u001b[0m\u001b[0m\n\u001b[0m\u001b[1;32m      5\u001b[0m     \u001b[0mcentral_portfolio_value\u001b[0m\u001b[0;34m[\u001b[0m\u001b[0mstock\u001b[0m\u001b[0;34m]\u001b[0m \u001b[0;34m=\u001b[0m \u001b[0mprice_data_2021\u001b[0m\u001b[0;34m[\u001b[0m\u001b[0mstock\u001b[0m\u001b[0;34m]\u001b[0m\u001b[0;34m\u001b[0m\u001b[0;34m\u001b[0m\u001b[0m\n\u001b[1;32m      6\u001b[0m \u001b[0;34m\u001b[0m\u001b[0m\n",
            "\u001b[0;31mNameError\u001b[0m: name 'central_portfolio' is not defined"
          ]
        }
      ],
      "source": [
        "amount = 100000\n",
        "\n",
        "central_portfolio_value = pd.DataFrame()\n",
        "for stock in central_portfolio:\n",
        "    central_portfolio_value[stock] = price_data_2021[stock]\n",
        "\n",
        "portfolio_unit = central_portfolio_value.sum(axis=1)[0]\n",
        "share = amount / portfolio_unit\n",
        "central_portfolio_value = central_portfolio_value.sum(axis=1) * share\n",
        "\n",
        "peripheral_portfolio_value = pd.DataFrame()\n",
        "for stock in peripheral_portfolio:\n",
        "    peripheral_portfolio_value[stock] = price_data_2021[stock]\n",
        "\n",
        "portfolio_unit = peripheral_portfolio_value.sum(axis=1)[0]\n",
        "share = amount / portfolio_unit\n",
        "peripheral_portfolio_value = peripheral_portfolio_value.sum(axis=1) * share"
      ]
    },
    {
      "cell_type": "code",
      "execution_count": null,
      "id": "1530c446",
      "metadata": {
        "id": "1530c446"
      },
      "outputs": [],
      "source": [
        "snp_500_2021_value = snp_500_2021 * (amount / snp_500_2021.iloc[0])"
      ]
    },
    {
      "cell_type": "code",
      "execution_count": null,
      "id": "81386041",
      "metadata": {
        "id": "81386041"
      },
      "outputs": [],
      "source": [
        "all_portfolios = snp_500_2021_value\n",
        "all_portfolios['central_portfolio'] = central_portfolio_value.values\n",
        "all_portfolios['peripheral_portfolio'] = peripheral_portfolio_value.values"
      ]
    },
    {
      "cell_type": "code",
      "execution_count": null,
      "id": "f5d8f0c4",
      "metadata": {
        "id": "f5d8f0c4"
      },
      "outputs": [],
      "source": [
        "# all_portfolios = pd.concat([snp_500_2021_value, central_portfolio_value, peripheral_portfolio_value], axis=1)\n",
        "# all_portfolios.columns = ['snp500', 'central_portfolio', 'peripheral_portfolio']"
      ]
    },
    {
      "cell_type": "code",
      "execution_count": null,
      "id": "8a277fa6",
      "metadata": {
        "colab": {
          "base_uri": "https://localhost:8080/",
          "height": 165
        },
        "id": "8a277fa6",
        "outputId": "cf30d55b-5690-4a6c-a15c-e3a4308037e2"
      },
      "outputs": [
        {
          "output_type": "error",
          "ename": "NameError",
          "evalue": "ignored",
          "traceback": [
            "\u001b[0;31m---------------------------------------------------------------------------\u001b[0m",
            "\u001b[0;31mNameError\u001b[0m                                 Traceback (most recent call last)",
            "\u001b[0;32m<ipython-input-23-d17e92d5e434>\u001b[0m in \u001b[0;36m<cell line: 1>\u001b[0;34m()\u001b[0m\n\u001b[0;32m----> 1\u001b[0;31m \u001b[0mall_portfolios\u001b[0m\u001b[0;34m.\u001b[0m\u001b[0mhead\u001b[0m\u001b[0;34m(\u001b[0m\u001b[0;34m)\u001b[0m\u001b[0;34m\u001b[0m\u001b[0;34m\u001b[0m\u001b[0m\n\u001b[0m",
            "\u001b[0;31mNameError\u001b[0m: name 'all_portfolios' is not defined"
          ]
        }
      ],
      "source": [
        "all_portfolios.head()"
      ]
    },
    {
      "cell_type": "code",
      "execution_count": null,
      "id": "f9fe76bb",
      "metadata": {
        "colab": {
          "base_uri": "https://localhost:8080/",
          "height": 900
        },
        "id": "f9fe76bb",
        "outputId": "47d5ae28-54fb-4e31-857a-e828433dceef"
      },
      "outputs": [
        {
          "output_type": "error",
          "ename": "NameError",
          "evalue": "ignored",
          "traceback": [
            "\u001b[0;31m---------------------------------------------------------------------------\u001b[0m",
            "\u001b[0;31mNameError\u001b[0m                                 Traceback (most recent call last)",
            "\u001b[0;32m<ipython-input-24-38657bd4ae0e>\u001b[0m in \u001b[0;36m<cell line: 2>\u001b[0;34m()\u001b[0m\n\u001b[1;32m      1\u001b[0m \u001b[0mfigure\u001b[0m\u001b[0;34m,\u001b[0m \u001b[0max\u001b[0m \u001b[0;34m=\u001b[0m \u001b[0mplt\u001b[0m\u001b[0;34m.\u001b[0m\u001b[0msubplots\u001b[0m\u001b[0;34m(\u001b[0m\u001b[0mfigsize\u001b[0m\u001b[0;34m=\u001b[0m\u001b[0;34m(\u001b[0m\u001b[0;36m16\u001b[0m\u001b[0;34m,\u001b[0m \u001b[0;36m8\u001b[0m\u001b[0;34m)\u001b[0m\u001b[0;34m)\u001b[0m\u001b[0;34m\u001b[0m\u001b[0;34m\u001b[0m\u001b[0m\n\u001b[0;32m----> 2\u001b[0;31m \u001b[0msnp_500_line\u001b[0m \u001b[0;34m=\u001b[0m \u001b[0max\u001b[0m\u001b[0;34m.\u001b[0m\u001b[0mplot\u001b[0m\u001b[0;34m(\u001b[0m\u001b[0mall_portfolios\u001b[0m\u001b[0;34m[\u001b[0m\u001b[0;34m'sp500'\u001b[0m\u001b[0;34m]\u001b[0m\u001b[0;34m,\u001b[0m \u001b[0mlabel\u001b[0m\u001b[0;34m=\u001b[0m\u001b[0;34m'S&P 500'\u001b[0m\u001b[0;34m)\u001b[0m\u001b[0;34m\u001b[0m\u001b[0;34m\u001b[0m\u001b[0m\n\u001b[0m\u001b[1;32m      3\u001b[0m \u001b[0mcentral_portfolio_line\u001b[0m \u001b[0;34m=\u001b[0m \u001b[0max\u001b[0m\u001b[0;34m.\u001b[0m\u001b[0mplot\u001b[0m\u001b[0;34m(\u001b[0m\u001b[0mall_portfolios\u001b[0m\u001b[0;34m[\u001b[0m\u001b[0;34m'central_portfolio'\u001b[0m\u001b[0;34m]\u001b[0m\u001b[0;34m,\u001b[0m \u001b[0mlabel\u001b[0m\u001b[0;34m=\u001b[0m \u001b[0;34m'Central Portfolio'\u001b[0m\u001b[0;34m)\u001b[0m\u001b[0;34m\u001b[0m\u001b[0;34m\u001b[0m\u001b[0m\n\u001b[1;32m      4\u001b[0m \u001b[0mperipheral_portfoli_line\u001b[0m \u001b[0;34m=\u001b[0m \u001b[0max\u001b[0m\u001b[0;34m.\u001b[0m\u001b[0mplot\u001b[0m\u001b[0;34m(\u001b[0m\u001b[0mall_portfolios\u001b[0m\u001b[0;34m[\u001b[0m\u001b[0;34m'peripheral_portfolio'\u001b[0m\u001b[0;34m]\u001b[0m\u001b[0;34m,\u001b[0m \u001b[0mlabel\u001b[0m\u001b[0;34m=\u001b[0m \u001b[0;34m'Peripheral Portfolio'\u001b[0m\u001b[0;34m)\u001b[0m\u001b[0;34m\u001b[0m\u001b[0;34m\u001b[0m\u001b[0m\n\u001b[1;32m      5\u001b[0m \u001b[0max\u001b[0m\u001b[0;34m.\u001b[0m\u001b[0mlegend\u001b[0m\u001b[0;34m(\u001b[0m\u001b[0mloc\u001b[0m\u001b[0;34m=\u001b[0m\u001b[0;34m'upper left'\u001b[0m\u001b[0;34m)\u001b[0m\u001b[0;34m\u001b[0m\u001b[0;34m\u001b[0m\u001b[0m\n",
            "\u001b[0;31mNameError\u001b[0m: name 'all_portfolios' is not defined"
          ]
        },
        {
          "output_type": "display_data",
          "data": {
            "text/plain": [
              "<Figure size 1600x800 with 1 Axes>"
            ],
            "image/png": "[encoded data removed]"
          },
          "metadata": {}
        }
      ],
      "source": [
        "figure, ax = plt.subplots(figsize=(16, 8))\n",
        "snp_500_line = ax.plot(all_portfolios['sp500'], label='S&P 500')\n",
        "central_portfolio_line = ax.plot(all_portfolios['central_portfolio'], label= 'Central Portfolio')\n",
        "peripheral_portfoli_line = ax.plot(all_portfolios['peripheral_portfolio'], label= 'Peripheral Portfolio')\n",
        "ax.legend(loc='upper left')\n",
        "plt.show()"
      ]
    },
    {
      "cell_type": "markdown",
      "id": "a0731411",
      "metadata": {
        "id": "a0731411"
      },
      "source": [
        "As seen from the above plot, it is clear that **the Central Portfolio stocks perform better and the Peripheral Portfolio stocks perform poorer in comparision to the S&P 500 stocks in 2021.**"
      ]
    },
    {
      "cell_type": "markdown",
      "id": "d4666d27",
      "metadata": {
        "id": "d4666d27"
      },
      "source": [
        "Both the portfolios have their features under different market conditions. "
      ]
    },
    {
      "cell_type": "markdown",
      "id": "a558492a",
      "metadata": {
        "id": "a558492a"
      },
      "source": [
        "Generally, **in stable market conditions Central Portfolio Stocks will perform better whereas Peripheral Portfolio Stocks will perform better in crisis market conditions.** This is due to peripheral portfolio stocks are kind of having a weak correlation so they will not be impacted by all other stocks were present in out network."
      ]
    },
    {
      "cell_type": "markdown",
      "id": "72c6d7ed",
      "metadata": {
        "id": "72c6d7ed"
      },
      "source": [
        "We can rebalance our stocks portfolio by using the network analysis."
      ]
    },
    {
      "cell_type": "code",
      "execution_count": null,
      "id": "e72c3d74",
      "metadata": {
        "id": "e72c3d74"
      },
      "outputs": [],
      "source": []
    }
  ],
  "metadata": {
    "kernelspec": {
      "display_name": "Python 3 (ipykernel)",
      "language": "python",
      "name": "python3"
    },
    "language_info": {
      "codemirror_mode": {
        "name": "ipython",
        "version": 3
      },
      "file_extension": ".py",
      "mimetype": "text/x-python",
      "name": "python",
      "nbconvert_exporter": "python",
      "pygments_lexer": "ipython3",
      "version": "3.9.13"
    },
    "colab": {
      "provenance": [],
      "include_colab_link": true
    }
  },
  "nbformat": 4,
  "nbformat_minor": 5
}